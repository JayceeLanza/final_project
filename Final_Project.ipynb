{
 "cells": [
  {
   "cell_type": "code",
   "execution_count": 2,
   "id": "982f4906-cfcf-4ea7-9bb5-6b5000bdfda7",
   "metadata": {},
   "outputs": [],
   "source": [
    "import numpy as np\n",
    "import matplotlib.pyplot as plt\n",
    "import xarray as xr\n",
    "import pandas as pd\n",
    "import seaborn as sns"
   ]
  },
  {
   "cell_type": "code",
   "execution_count": 3,
   "id": "12469164-d665-4e45-b051-af5ac8b7a958",
   "metadata": {},
   "outputs": [
    {
     "name": "stdout",
     "output_type": "stream",
     "text": [
      "    Trial  Egregia_Monoculture  Macrocystis_Monoculture  Egregia_Polyculture  \\\n",
      "0       1               20.000                  44.3300                20.33   \n",
      "1       1               38.670                  54.3300                10.67   \n",
      "2       1               21.300                  36.6660                14.67   \n",
      "3       1                5.000                  50.0000                 3.67   \n",
      "4       1                2.000                  28.6660                 8.67   \n",
      "5       1                1.333                  31.3333                 9.00   \n",
      "6       2               36.600                  42.2000                15.25   \n",
      "7       2               41.800                  29.2000                13.80   \n",
      "8       2               46.000                  49.6000                20.60   \n",
      "9       2               26.600                  33.8000                21.60   \n",
      "10      2               29.600                  52.8000                13.40   \n",
      "11      2               62.800                  51.8000                18.00   \n",
      "12      3               31.300                  53.6000                21.40   \n",
      "13      3               39.000                  41.6000                18.60   \n",
      "14      3               54.600                  46.4000                16.80   \n",
      "15      3               49.200                  41.0000                23.00   \n",
      "16      3               43.000                  26.0000                13.80   \n",
      "17      3               35.200                  27.4000                22.60   \n",
      "\n",
      "    Macrocystis_Polyculture  \n",
      "0                      6.00  \n",
      "1                     25.00  \n",
      "2                     19.67  \n",
      "3                     17.66  \n",
      "4                      6.33  \n",
      "5                     11.33  \n",
      "6                     32.50  \n",
      "7                     17.20  \n",
      "8                     20.60  \n",
      "9                     22.40  \n",
      "10                    19.80  \n",
      "11                    25.60  \n",
      "12                    22.00  \n",
      "13                    29.20  \n",
      "14                    30.20  \n",
      "15                    33.80  \n",
      "16                    19.20  \n",
      "17                    29.20  \n"
     ]
    }
   ],
   "source": [
    "settlement_density = pd.read_excel(r'Settlement_Density_MS263.xlsx')\n",
    "print (settlement_density)"
   ]
  },
  {
   "cell_type": "code",
   "execution_count": 4,
   "id": "6f7efa07-98e5-4952-a5c0-6357708909d0",
   "metadata": {},
   "outputs": [
    {
     "name": "stdout",
     "output_type": "stream",
     "text": [
      "81.11152777777778\n",
      "102.87851388888889\n",
      "39.702777777777776\n",
      "53.84583333333333\n"
     ]
    }
   ],
   "source": [
    "E_mono_SD = settlement_density[\"Egregia_Monoculture\"].mean()\n",
    "M_mono_SD = settlement_density[\"Macrocystis_Monoculture\"].mean()\n",
    "E_poly_SD = settlement_density[\"Egregia_Polyculture\"].mean()\n",
    "M_poly_SD = settlement_density[\"Macrocystis_Polyculture\"].mean()\n",
    "\n",
    "print(E_mono_SD/.4)\n",
    "print(M_mono_SD/.4)\n",
    "print(E_poly_SD/.4)\n",
    "print(M_poly_SD/.4)\n"
   ]
  },
  {
   "cell_type": "code",
   "execution_count": null,
   "id": "678b91e8-7bd0-429d-b2fa-61f2859d1d46",
   "metadata": {},
   "outputs": [],
   "source": []
  },
  {
   "cell_type": "code",
   "execution_count": 5,
   "id": "0e3cbd34-4dd4-4381-b05e-399e498fa70c",
   "metadata": {},
   "outputs": [
    {
     "name": "stdout",
     "output_type": "stream",
     "text": [
      "       Species Culture_Type  Density/mm\n",
      "0  Macrocystis         Mono       81.11\n",
      "1  Macrocystis         Poly      102.87\n",
      "2      Egregia         Mono       39.70\n",
      "3      Egregia         Poly       53.85\n"
     ]
    }
   ],
   "source": [
    "settlement_density_means = pd.read_excel(r'settlement_density_means.xlsx')\n",
    "print (settlement_density_means)"
   ]
  },
  {
   "cell_type": "code",
   "execution_count": 8,
   "id": "adca143b-0404-4ed2-9e83-540d9ba4d4ed",
   "metadata": {},
   "outputs": [
    {
     "data": {
      "image/png": "[encoded data removed]",
      "text/plain": [
       "<Figure size 432.125x360 with 1 Axes>"
      ]
     },
     "metadata": {
      "needs_background": "light"
     },
     "output_type": "display_data"
    }
   ],
   "source": [
    "\n",
    "sns.catplot(data=settlement_density_means, kind=\"bar\", x=\"Species\", y=\"Density/mm\", hue=\"Culture_Type\");\n"
   ]
  },
  {
   "cell_type": "code",
   "execution_count": 12,
   "id": "d8bff44e-c442-4218-9676-d65dff50c70a",
   "metadata": {},
   "outputs": [
    {
     "name": "stdout",
     "output_type": "stream",
     "text": [
      "       Species Light_Level  Av_Timing_Egg\n",
      "0  Macrocystis         low             21\n",
      "1  Macrocystis      medium             12\n",
      "2  Macrocystis        high              9\n",
      "3  Macrocystis   very high             11\n",
      "4      Egregia         low             27\n",
      "5      Egregia      medium             23\n",
      "6      Egregia        high              6\n",
      "7      Egregia   very high              5\n"
     ]
    }
   ],
   "source": [
    "Egg_Timing_Means = pd.read_excel(r'Egg_Timing_Mean.xlsx')\n",
    "print (Egg_Timing_Means)"
   ]
  },
  {
   "cell_type": "code",
   "execution_count": 18,
   "id": "dc217f8c-8d8c-42be-9e40-b78715c7b8f5",
   "metadata": {},
   "outputs": [
    {
     "data": {
      "image/png": "[encoded data removed]",
      "text/plain": [
       "<Figure size 443.125x360 with 1 Axes>"
      ]
     },
     "metadata": {
      "needs_background": "light"
     },
     "output_type": "display_data"
    }
   ],
   "source": [
    "sns.catplot(data=Egg_Timing_Means, kind=\"bar\", x=\"Species\", y=\"Av_Timing_Egg\", hue=\"Light_Level\");"
   ]
  },
  {
   "cell_type": "code",
   "execution_count": null,
   "id": "839af511-3dad-4531-bfed-d1169b19fa5a",
   "metadata": {},
   "outputs": [],
   "source": []
  }
 ],
 "metadata": {
  "kernelspec": {
   "display_name": "Python 3 (ipykernel)",
   "language": "python",
   "name": "python3"
  },
  "language_info": {
   "codemirror_mode": {
    "name": "ipython",
    "version": 3
   },
   "file_extension": ".py",
   "mimetype": "text/x-python",
   "name": "python",
   "nbconvert_exporter": "python",
   "pygments_lexer": "ipython3",
   "version": "3.8.12"
  }
 },
 "nbformat": 4,
 "nbformat_minor": 5
}
