{
 "cells": [
  {
   "cell_type": "markdown",
   "id": "a0310ea9-194f-42fd-bcb4-a998e268fd1f",
   "metadata": {},
   "source": [
    "# The Effects of Light Levels on Sexual Compeition in Kelps"
   ]
  },
  {
   "cell_type": "markdown",
   "id": "d64486ff-147f-4581-b7af-1545a75e0cfd",
   "metadata": {},
   "source": [
    "# Introduction"
   ]
  },
  {
   "cell_type": "markdown",
   "id": "4fed34d9-8163-415b-b697-9a58e30eb223",
   "metadata": {},
   "source": [
    "Kelp forests are some of the most biodiverse habitats in the world. This is because kelp are foundation species, meaning that they alter the structure of their habitat to support other organisms such as fish, invertebrates, and marine mammals  (Mann 1973; Dayton 1985; Graham 2004; Smale et al. 2013, Lind & Konar 2017). Kelp species vary greatly in their morphological and physiological traits and therefore occupy different niches, as well as support unique species assemblages (Dayton 1985, Hamilton & Konar 2007; Graham et al. 2007; Torres-Moye 2013;  Traiger & Konar 2017). Because of this, changes to the competitive dynamics of kelps within a kelp bed could alter the composition and biodiversity of the ecosystem (Dayton 1985, Graham et al. 2007, Traiger & Konar 2017, Zacher 2019). \n",
    "Much of kelp species competition occurs during their reproductive phase (Reed 1990, Graham et al. 2007, Howard 2014, Chrstiansen 2018, Zacher 2019). Kelps reproduce sexually, meaning that they produce both sperm and eggs. When the eggs are fully mature, they produce a pheromone that both stimulates sperm release and its attraction to the egg. All kelp species release the same pheromone: Lamoxierene. The species whose egg matures first is the first to release the pheromone, and therefore will trigger sperm release from all reproductive kelps in the area, even though their eggs may not be fully developed. This can decrease or inhibit reproduction in the other species, as they will no longer have sperm to fertilize their eggs when they mature(Reed 1990, Howard 2014, Christiansen 2018). The timing of egg maturation in kelp is dependent on abiotic factors (Reed 1990, Graham et al. 2007, Howard 2014, Christiansen 2018, Zacher 2019). In the kelp forest light is highly variable, and has been shown to affect the reproductive phase of kelp species(Reed & Foster 1984, Gerard 1984, Foster & Schiel 1985, Dayton et al.1999, Veenhof et al. 2021). Therefore, I am studying the effects of varying light levels on sexual competition between three kelp species in the Monterey Bay. "
   ]
  },
  {
   "cell_type": "markdown",
   "id": "d77acbea-951a-41fb-8f1d-cfb8e81677a6",
   "metadata": {},
   "source": [
    "# Methods"
   ]
  },
  {
   "cell_type": "markdown",
   "id": "3fdd5ec3-7cba-42a8-89c6-9bd2342fbdf7",
   "metadata": {},
   "source": [
    "### Collection"
   ]
  },
  {
   "cell_type": "markdown",
   "id": "f90aaf5d-a981-47cf-aeac-a38771205f1b",
   "metadata": {},
   "source": [
    "Reproductive tissue from ~10 mature individuals will be collected monthly from Stillwater Cove (36°33'55.30''N, 121°56'36.05''W). Egregia and Macrocystis will be collected from April-December as they reproduce all year, while Pterygophora will only be collected during its reproductive period (October-December)(Abbot &Hollenberg 1976, Reed 1990, Christiansen 2018). Reproductive tissue from each species will be kept separate and transported back to the lab in a cooler. "
   ]
  },
  {
   "cell_type": "markdown",
   "id": "5dea0a9b-f7c6-4e3a-8095-30e40e970cc0",
   "metadata": {},
   "source": [
    "### Spore Release and Settlement"
   ]
  },
  {
   "cell_type": "markdown",
   "id": "288cad11-7f47-41b4-9398-97bce09c7c60",
   "metadata": {},
   "source": [
    "In order to control diatom growth, sporophylls will be submerged in 1% iodine solution for 30 seconds, DI water for 10 seconds, and then sterile seawater (27.2 g/L prepared with Instant Ocean®) for 1 minute. Sporophylls will then be layered with damp paper towels in a large dish and left in the dark at 10 ºC for a minimum of 3 hours. The sporophylls will then be removed from the dish and soaked in a saltwater bath for 1 hour to stimulate spore release (Reed et al. 1991, Howard 2014, Christiansen 2018). The resulting spore solution will be filtered through a 10 um mesh filter to separate spores. To estimate concentration, one drop of spore solution will be pipetted into a hemocytometer slide and counted at 400x magnification with a compound microscope(Reed et al. 1991, Howard 2014). The number of spores from 10 separate grids will be counted and averaged to determine the concentration of the spore solution. Spore solutions for each species will then be diluted so that 20 spores/mm2 can be added to monocultures, and 10/10 spores/mm2 can be added to polycultures (Reed 1990, Reed et al. 1991, Christiansen 2018). In order to tell the species apart, the first species will be settled 1 day before the second. After spore release, the first species will be settled into well 1(monoculture) and well 3 (polyculture) for 24 hours. The polyculture will then be examined at 400x under a Leica inverted microscope, and 5 fields of view will be photographed in order to differentiate between species. These spores will then be rinsed with artificial seawater to remove any remaining unattached spores. The second species will be settled for 24 hours in well 2 (monoculture) and with the first species in well 3."
   ]
  },
  {
   "cell_type": "markdown",
   "id": "de6cc165-e1dd-4195-9cf4-fd57c862222d",
   "metadata": {},
   "source": [
    "After settlement, the same 5 fields of view in the polyculture will be photographed again.  To account for the difference in settlement period, the order in which species are settled will be switched between experiments. All experiments will be conducted in a Percival® AL-30 incubator to ensure that temperature and light intensity are controlled. "
   ]
  },
  {
   "cell_type": "markdown",
   "id": "b80df52c-24cd-4b69-aa21-bc7324443c27",
   "metadata": {},
   "source": [
    "### Treatments and Data Collection"
   ]
  },
  {
   "cell_type": "markdown",
   "id": "b721e9d1-c772-41f3-905b-4af2c0adb683",
   "metadata": {},
   "source": [
    "After pouring off the water and filling the petri dishes with Provasoli enriched seawater (PES), settlement density will be calculated for all samples by counting the number of spores visible in 5 random fields of view at 400x magnification under a Leica inverted microscope (West & McBride 1999; Traiger & Konar 2017). Once settlement density is determined, dishes will be separated into four light treatments: low (5 µM photons m-2s-1), medium (20 μE·m−2·s−1), high (40 μE·m−2·s−1), and very high (60 µM photons m-2s-1). Light treatments were chosen based on the lowest quantum does at which gametogenesis occurs in 50% of female gametophytes (5 μE·m−2·s−1),), and the saturating irradiance for fertilization (40 µM photons m-2s-1) (Deysher & Dean 1984). The differing light treatments will be achieved using neutral density light filters placed on the lids of the petri dishes (Graham 1996). All treatments will be replicated 3 times per trial for each monoculture and polyculture, for a total of 12 replicates per trial.  \n",
    "Each day after all spores are settled, 5 haphazardly selected ocular fields of view from each sample will be examined to determine the timing of egg production and the  number of sporophytes per egg produced under each condition in the monocultures. In addition, the five previously selected fields of view in each polyculture will be examined and photographed daily. From this point on PES will be changed weekly to ensure there are enough nutrients for growth. This will continue for ~ 2 weeks, or until sporophytes have been produced. \n"
   ]
  },
  {
   "cell_type": "markdown",
   "id": "178034f2-affd-4858-a0dc-80beea598caf",
   "metadata": {},
   "source": [
    "# Results"
   ]
  },
  {
   "cell_type": "markdown",
   "id": "db52228e-8922-456d-869a-1fc17ff3ba50",
   "metadata": {},
   "source": [
    "### Settlement Density"
   ]
  },
  {
   "cell_type": "code",
   "execution_count": 1,
   "id": "3b2390fc-e263-4357-85fd-f29766c119f8",
   "metadata": {},
   "outputs": [],
   "source": [
    "import numpy as np\n",
    "import matplotlib.pyplot as plt\n",
    "import xarray as xr\n",
    "import pandas as pd\n",
    "import seaborn as sns\n",
    "import scipy as syp\n",
    "import pingouin as pg\n",
    "from statsmodels.stats.multicomp import pairwise_tukeyhsd"
   ]
  },
  {
   "cell_type": "code",
   "execution_count": 2,
   "id": "95b3b086-1c12-4830-8e27-02162f49bbc0",
   "metadata": {},
   "outputs": [
    {
     "name": "stdout",
     "output_type": "stream",
     "text": [
      "     Dish Culture_Type  Macro_Spores  Egregia_Spores\n",
      "0       1         Mono            31              53\n",
      "1       1         Mono            32              37\n",
      "2       1         Mono            22              44\n",
      "3       1         Mono            35              45\n",
      "4       1         Mono            63              32\n",
      "..    ...          ...           ...             ...\n",
      "353    12         Poly            22              19\n",
      "354    12         Poly            24               9\n",
      "355    12         Poly            24              23\n",
      "356    12         Poly            28              13\n",
      "357    12         Poly            15              17\n",
      "\n",
      "[358 rows x 4 columns]\n"
     ]
    }
   ],
   "source": [
    "#import data\n",
    "settlement_density = pd.read_excel(r'MS263_FinalProject_Data_SettlementDensity.xlsx') #import settlement density dataset\n",
    "print (settlement_density)"
   ]
  },
  {
   "cell_type": "code",
   "execution_count": 3,
   "id": "3fd196cd-76ef-46e7-835f-eb55980c71ad",
   "metadata": {},
   "outputs": [
    {
     "name": "stdout",
     "output_type": "stream",
     "text": [
      "     Dish Culture_Type         Species  Settlement_Density\n",
      "0       1         Mono    Macro_Spores                  31\n",
      "1       1         Mono    Macro_Spores                  32\n",
      "2       1         Mono    Macro_Spores                  22\n",
      "3       1         Mono    Macro_Spores                  35\n",
      "4       1         Mono    Macro_Spores                  63\n",
      "..    ...          ...             ...                 ...\n",
      "711    12         Poly  Egregia_Spores                  19\n",
      "712    12         Poly  Egregia_Spores                   9\n",
      "713    12         Poly  Egregia_Spores                  23\n",
      "714    12         Poly  Egregia_Spores                  13\n",
      "715    12         Poly  Egregia_Spores                  17\n",
      "\n",
      "[716 rows x 4 columns]\n"
     ]
    }
   ],
   "source": [
    "#melt colums Macro_Spores and Egregia_Spores together in to a \"Species\" column\n",
    "\n",
    "settlement_density_melt = settlement_density.melt(\n",
    "                                id_vars=[\"Dish\",\"Culture_Type\"],\n",
    "                                value_vars=[\"Macro_Spores\",  \"Egregia_Spores\"],\n",
    "                                var_name=\"Species\",\n",
    "                                value_name=\"Settlement_Density\")\n",
    "print(settlement_density_melt)"
   ]
  },
  {
   "cell_type": "code",
   "execution_count": 4,
   "id": "7d40e132-8992-4e85-94c4-ed69f72ff7b7",
   "metadata": {},
   "outputs": [],
   "source": [
    "#Subset the data for tests of normality\n",
    "M_SD = settlement_density_melt[settlement_density_melt[\"Species\"].isin(['Macro_Spores'])] #Subset so that data shows Macrocystis spores only\n",
    "M_Mono_SD= M_SD[M_SD[\"Culture_Type\"].isin(['Mono'])] #Subset so the data only shows Macrocystis Monocultures\n",
    "M_Poly_SD= M_SD[M_SD[\"Culture_Type\"].isin(['Poly'])] #Subset so the data only shows Macrocystis Polycultures"
   ]
  },
  {
   "cell_type": "code",
   "execution_count": 5,
   "id": "1d36985e-d294-4990-9b0e-d7269366c09c",
   "metadata": {},
   "outputs": [],
   "source": [
    "E_SD = settlement_density_melt[settlement_density_melt[\"Species\"].isin(['Egregia_Spores'])] #Subset so that data shows Egregia spores only\n",
    "E_Mono_SD= E_SD[E_SD[\"Culture_Type\"].isin(['Mono'])] #Subset so the data only shows Egregia Monocultures\n",
    "E_Poly_SD= E_SD[E_SD[\"Culture_Type\"].isin(['Poly'])] #Subset so the data only shows Egregia Polycultures"
   ]
  },
  {
   "cell_type": "code",
   "execution_count": 7,
   "id": "c54e281e-1530-4f82-9157-4f99ee5ad912",
   "metadata": {},
   "outputs": [
    {
     "name": "stdout",
     "output_type": "stream",
     "text": [
      "41.597765363128495\n",
      "18.51396648044693\n",
      "31.592178770949722\n",
      "18.480446927374302\n"
     ]
    }
   ],
   "source": [
    "\n",
    "#take the means of each subset created\n",
    "\n",
    "M_Mono_SDMean = M_Mono_SD[\"Settlement_Density\"].mean()\n",
    "print(M_Mono_SDMean)\n",
    "M_Poly_SDMean = M_Poly_SD[\"Settlement_Density\"].mean()\n",
    "print(M_Poly_SDMean)\n",
    "E_Mono_SDMean = E_Mono_SD[\"Settlement_Density\"].mean()\n",
    "print(E_Mono_SDMean)\n",
    "E_Poly_SDMean = E_Poly_SD[\"Settlement_Density\"].mean()\n",
    "print(E_Poly_SDMean)"
   ]
  },
  {
   "cell_type": "code",
   "execution_count": 8,
   "id": "5fc2caa9-ae34-4b8d-a906-ea8d2efc67e7",
   "metadata": {},
   "outputs": [
    {
     "data": {
      "text/html": [
       "<div>\n",
       "<style scoped>\n",
       "    .dataframe tbody tr th:only-of-type {\n",
       "        vertical-align: middle;\n",
       "    }\n",
       "\n",
       "    .dataframe tbody tr th {\n",
       "        vertical-align: top;\n",
       "    }\n",
       "\n",
       "    .dataframe thead th {\n",
       "        text-align: right;\n",
       "    }\n",
       "</style>\n",
       "<table border=\"1\" class=\"dataframe\">\n",
       "  <thead>\n",
       "    <tr style=\"text-align: right;\">\n",
       "      <th></th>\n",
       "      <th>Species</th>\n",
       "      <th>Culture_Type</th>\n",
       "      <th>Av_SD/FOV</th>\n",
       "    </tr>\n",
       "  </thead>\n",
       "  <tbody>\n",
       "    <tr>\n",
       "      <th>0</th>\n",
       "      <td>Macrocystis</td>\n",
       "      <td>Mono</td>\n",
       "      <td>41.597765</td>\n",
       "    </tr>\n",
       "    <tr>\n",
       "      <th>1</th>\n",
       "      <td>Macrocystis</td>\n",
       "      <td>Poly</td>\n",
       "      <td>18.513966</td>\n",
       "    </tr>\n",
       "    <tr>\n",
       "      <th>2</th>\n",
       "      <td>Egregia</td>\n",
       "      <td>Mono</td>\n",
       "      <td>31.592179</td>\n",
       "    </tr>\n",
       "    <tr>\n",
       "      <th>3</th>\n",
       "      <td>Egregia</td>\n",
       "      <td>Poly</td>\n",
       "      <td>18.480447</td>\n",
       "    </tr>\n",
       "  </tbody>\n",
       "</table>\n",
       "</div>"
      ],
      "text/plain": [
       "       Species Culture_Type  Av_SD/FOV\n",
       "0  Macrocystis         Mono  41.597765\n",
       "1  Macrocystis         Poly  18.513966\n",
       "2      Egregia         Mono  31.592179\n",
       "3      Egregia         Poly  18.480447"
      ]
     },
     "execution_count": 8,
     "metadata": {},
     "output_type": "execute_result"
    }
   ],
   "source": [
    "#put the means into a new dataframe\n",
    "\n",
    "m = {'Species': ['Macrocystis', 'Macrocystis', 'Egregia', 'Egregia'], 'Culture_Type':['Mono', 'Poly','Mono','Poly'], 'Av_SD/FOV':[M_Mono_SDMean,M_Poly_SDMean, E_Mono_SDMean, E_Poly_SDMean]}\n",
    "means = pd.DataFrame(data=m)\n",
    "means"
   ]
  },
  {
   "cell_type": "code",
   "execution_count": 9,
   "id": "6a3ab0a2-7044-48ee-9202-16c08dad180c",
   "metadata": {},
   "outputs": [
    {
     "data": {
      "image/png": "[encoded data removed]",
      "text/plain": [
       "<Figure size 432.125x360 with 1 Axes>"
      ]
     },
     "metadata": {
      "needs_background": "light"
     },
     "output_type": "display_data"
    }
   ],
   "source": [
    "#Plot mean settlement density vs Species and culture type\n",
    "\n",
    "sns.catplot(data=settlement_density_melt, kind=\"bar\", x=\"Species\", y=\"Settlement_Density\", hue=\"Culture_Type\",).set(title='Average Settlement Density');"
   ]
  },
  {
   "cell_type": "code",
   "execution_count": 10,
   "id": "19121e83-ef32-4ecb-b0c7-350d74c3a748",
   "metadata": {},
   "outputs": [
    {
     "name": "stderr",
     "output_type": "stream",
     "text": [
      "/Users/jayceelanza/opt/miniconda3/lib/python3.8/site-packages/statsmodels/compat/pandas.py:65: FutureWarning: pandas.Int64Index is deprecated and will be removed from pandas in a future version. Use pandas.Index with the appropriate dtype instead.\n",
      "  from pandas import Int64Index as NumericIndex\n"
     ]
    }
   ],
   "source": [
    "from scipy import stats\n",
    "import statsmodels.api as sm\n",
    "from statsmodels.formula.api import ols"
   ]
  },
  {
   "cell_type": "code",
   "execution_count": 41,
   "id": "cefd1a29-58d7-477c-a25b-4e2d04f0c77d",
   "metadata": {},
   "outputs": [
    {
     "data": {
      "text/plain": [
       "[ShapiroResult(statistic=0.8972490429878235, pvalue=8.452759603372328e-10),\n",
       " ShapiroResult(statistic=0.9703751802444458, pvalue=0.0007373839034698904),\n",
       " ShapiroResult(statistic=0.9320408701896667, pvalue=1.8948259139506263e-07),\n",
       " ShapiroResult(statistic=0.9562023878097534, pvalue=2.3096692530089058e-05)]"
      ]
     },
     "execution_count": 41,
     "metadata": {},
     "output_type": "execute_result"
    }
   ],
   "source": [
    "#Test for Normality using subsets\n",
    "from Final import shapiro_func \n",
    "norm_list = [M_Mono_SD, M_Poly_SD, E_Mono_SD, E_Poly_SD]\n",
    "shapiro_func(norm_list, 'Settlement_Density')\n",
    "#The data is not normal"
   ]
  },
  {
   "cell_type": "code",
   "execution_count": 12,
   "id": "3c55f901-959d-4a2b-8721-6fefd97fcf24",
   "metadata": {},
   "outputs": [],
   "source": [
    "#create histograms to visualize normality"
   ]
  },
  {
   "cell_type": "code",
   "execution_count": 13,
   "id": "5016bbde-9b7b-4690-9fe1-c17f84961e89",
   "metadata": {},
   "outputs": [
    {
     "data": {
      "image/png": "[encoded data removed]",
      "text/plain": [
       "<Figure size 432x288 with 4 Axes>"
      ]
     },
     "metadata": {
      "needs_background": "light"
     },
     "output_type": "display_data"
    }
   ],
   "source": [
    "settlement_density_melt.hist(column='Settlement_Density', by=['Species','Culture_Type']);"
   ]
  },
  {
   "cell_type": "code",
   "execution_count": 43,
   "id": "a65bce7e-bc3e-4ade-8145-40f31d2ae060",
   "metadata": {},
   "outputs": [],
   "source": [
    "#log transform data to increase normality\n",
    "ln_M_Mono_SD=np.log(M_Poly_SD['Settlement_Density'])\n",
    "ln_M_Poly_SD=np.log(M_Poly_SD['Settlement_Density'])\n",
    "ln_E_Mono_SD=np.log(E_Mono_SD['Settlement_Density'])\n",
    "ln_E_Poly_SD=np.log(E_Poly_SD['Settlement_Density'])"
   ]
  },
  {
   "cell_type": "code",
   "execution_count": 44,
   "id": "9f7e7344-814a-48e5-b4e3-3985b8c1f660",
   "metadata": {},
   "outputs": [
    {
     "data": {
      "text/plain": [
       "Text(0.5, 1.0, 'ln_E_Poly_SD')"
      ]
     },
     "execution_count": 44,
     "metadata": {},
     "output_type": "execute_result"
    },
    {
     "data": {
      "image/png": "[encoded data removed]",
      "text/plain": [
       "<Figure size 432x288 with 1 Axes>"
      ]
     },
     "metadata": {
      "needs_background": "light"
     },
     "output_type": "display_data"
    },
    {
     "data": {
      "image/png": "[encoded data removed]",
      "text/plain": [
       "<Figure size 432x288 with 1 Axes>"
      ]
     },
     "metadata": {
      "needs_background": "light"
     },
     "output_type": "display_data"
    },
    {
     "data": {
      "image/png": "[encoded data removed]",
      "text/plain": [
       "<Figure size 432x288 with 1 Axes>"
      ]
     },
     "metadata": {
      "needs_background": "light"
     },
     "output_type": "display_data"
    },
    {
     "data": {
      "image/png": "[encoded data removed]",
      "text/plain": [
       "<Figure size 432x288 with 1 Axes>"
      ]
     },
     "metadata": {
      "needs_background": "light"
     },
     "output_type": "display_data"
    }
   ],
   "source": [
    "#plot log transformed data\n",
    "fig1 = plt.figure()\n",
    "ax1 = fig1.add_subplot(1,1,1)\n",
    "n, bins, patches = ax1.hist(ln_M_Mono_SD)\n",
    "ax1.set_title('ln_M_Mono_SD')\n",
    "fig2 = plt.figure()\n",
    "ax2 = fig2.add_subplot(1,1,1)\n",
    "n, bins, patches = ax2.hist(ln_M_Poly_SD)\n",
    "ax2.set_title('ln_M_Poly_SD')\n",
    "fig3 = plt.figure()\n",
    "ax3 = fig3.add_subplot(1,1,1)\n",
    "n, bins, patches = ax3.hist(ln_E_Mono_SD)\n",
    "ax3.set_title('ln_E_Mono_SD')\n",
    "fig4 = plt.figure()\n",
    "ax4 = fig4.add_subplot(1,1,1)\n",
    "n, bins, patches = ax4.hist(ln_E_Poly_SD)\n",
    "ax4.set_title('ln_E_Poly_SD')"
   ]
  },
  {
   "cell_type": "code",
   "execution_count": 48,
   "id": "27afb017-fa06-45f7-9c5f-28b667114992",
   "metadata": {},
   "outputs": [
    {
     "name": "stdout",
     "output_type": "stream",
     "text": [
      "ShapiroResult(statistic=0.9670783281326294, pvalue=0.0003119317698292434) ShapiroResult(statistic=0.9670783281326294, pvalue=0.0003119317698292434) ShapiroResult(statistic=0.9846138954162598, pvalue=0.04641147330403328) ShapiroResult(statistic=0.9387887120246887, pvalue=6.492761599474761e-07)\n"
     ]
    }
   ],
   "source": [
    "#test normality of log transform\n",
    "ln_norm1= syp.stats.shapiro(ln_M_Mono_SD)\n",
    "ln_norm2= syp.stats.shapiro(ln_M_Poly_SD)\n",
    "ln_norm3= syp.stats.shapiro(ln_E_Mono_SD)\n",
    "ln_norm4 = syp.stats.shapiro(ln_E_Poly_SD)\n",
    "print(ln_norm1, ln_norm2, ln_norm3, ln_norm4)"
   ]
  },
  {
   "cell_type": "code",
   "execution_count": 17,
   "id": "e9118a13-ddf9-4fd3-b77c-e19f0166adfc",
   "metadata": {},
   "outputs": [
    {
     "name": "stdout",
     "output_type": "stream",
     "text": [
      "               W      pval  equal_var\n",
      "levene  2.291573  0.130521       True\n",
      "                 W          pval  equal_var\n",
      "levene  130.011212  8.745839e-28      False\n"
     ]
    }
   ],
   "source": [
    "#test data for homoscedasticity\n",
    "eq_var_sp = pg.homoscedasticity(data= settlement_density_melt, dv= 'Settlement_Density', group = 'Species', method= 'levene',alpha=.05)\n",
    "print(eq_var_sp)\n",
    "eq_var_cul =pg.homoscedasticity(data= settlement_density_melt, dv= 'Settlement_Density', group = 'Culture_Type', method= 'levene',alpha=.05)\n",
    "print(eq_var_cul)"
   ]
  },
  {
   "cell_type": "markdown",
   "id": "328e434a-5814-4ae6-bcd0-96c0a2b443b6",
   "metadata": {},
   "source": [
    "The data is not normal or homoscedastic. The tests below may lack power becuase of this"
   ]
  },
  {
   "cell_type": "code",
   "execution_count": 36,
   "id": "7d55dfba-2eb2-4617-9fe4-7d7620df7b97",
   "metadata": {},
   "outputs": [
    {
     "data": {
      "text/html": [
       "<div>\n",
       "<style scoped>\n",
       "    .dataframe tbody tr th:only-of-type {\n",
       "        vertical-align: middle;\n",
       "    }\n",
       "\n",
       "    .dataframe tbody tr th {\n",
       "        vertical-align: top;\n",
       "    }\n",
       "\n",
       "    .dataframe thead th {\n",
       "        text-align: right;\n",
       "    }\n",
       "</style>\n",
       "<table border=\"1\" class=\"dataframe\">\n",
       "  <thead>\n",
       "    <tr style=\"text-align: right;\">\n",
       "      <th></th>\n",
       "      <th>Source</th>\n",
       "      <th>SS</th>\n",
       "      <th>DF</th>\n",
       "      <th>MS</th>\n",
       "      <th>F</th>\n",
       "      <th>p-unc</th>\n",
       "      <th>n2</th>\n",
       "    </tr>\n",
       "  </thead>\n",
       "  <tbody>\n",
       "    <tr>\n",
       "      <th>0</th>\n",
       "      <td>Culture_Type</td>\n",
       "      <td>58627.710894</td>\n",
       "      <td>1</td>\n",
       "      <td>58627.710894</td>\n",
       "      <td>365.174110</td>\n",
       "      <td>4.992953e-66</td>\n",
       "      <td>0.322312</td>\n",
       "    </tr>\n",
       "    <tr>\n",
       "      <th>1</th>\n",
       "      <td>Species</td>\n",
       "      <td>4510.068436</td>\n",
       "      <td>1</td>\n",
       "      <td>4510.068436</td>\n",
       "      <td>28.091839</td>\n",
       "      <td>1.544736e-07</td>\n",
       "      <td>0.024795</td>\n",
       "    </tr>\n",
       "    <tr>\n",
       "      <th>2</th>\n",
       "      <td>Culture_Type * Species</td>\n",
       "      <td>4450.034916</td>\n",
       "      <td>1</td>\n",
       "      <td>4450.034916</td>\n",
       "      <td>27.717909</td>\n",
       "      <td>1.860423e-07</td>\n",
       "      <td>0.024465</td>\n",
       "    </tr>\n",
       "    <tr>\n",
       "      <th>3</th>\n",
       "      <td>Residual</td>\n",
       "      <td>114309.664804</td>\n",
       "      <td>712</td>\n",
       "      <td>160.547282</td>\n",
       "      <td>NaN</td>\n",
       "      <td>NaN</td>\n",
       "      <td>NaN</td>\n",
       "    </tr>\n",
       "  </tbody>\n",
       "</table>\n",
       "</div>"
      ],
      "text/plain": [
       "                   Source             SS   DF            MS           F  \\\n",
       "0            Culture_Type   58627.710894    1  58627.710894  365.174110   \n",
       "1                 Species    4510.068436    1   4510.068436   28.091839   \n",
       "2  Culture_Type * Species    4450.034916    1   4450.034916   27.717909   \n",
       "3                Residual  114309.664804  712    160.547282         NaN   \n",
       "\n",
       "          p-unc        n2  \n",
       "0  4.992953e-66  0.322312  \n",
       "1  1.544736e-07  0.024795  \n",
       "2  1.860423e-07  0.024465  \n",
       "3           NaN       NaN  "
      ]
     },
     "execution_count": 36,
     "metadata": {},
     "output_type": "execute_result"
    }
   ],
   "source": [
    "#normality and homoscedasticity assumptions violated\n",
    "pg.anova(data=settlement_density_melt, dv= 'Settlement_Density', between = ['Culture_Type', 'Species'], effsize= 'n2')"
   ]
  },
  {
   "cell_type": "code",
   "execution_count": 19,
   "id": "7fe2772e-2873-445a-86e0-d34634652c10",
   "metadata": {},
   "outputs": [
    {
     "name": "stdout",
     "output_type": "stream",
     "text": [
      "       Contrast     A     B  Paired  Parametric          T    dof alternative  \\\n",
      "0  Culture_Type  Mono  Poly   False        True  18.427749  714.0   two-sided   \n",
      "\n",
      "          p-unc       BF10    hedges  \n",
      "0  2.495793e-62  4.514e+58  1.375907  \n"
     ]
    }
   ],
   "source": [
    "ttest1 = pg.pairwise_ttests(data=settlement_density_melt, dv= 'Settlement_Density', between= 'Culture_Type',correction= 'auto') \n",
    "print(ttest1)"
   ]
  },
  {
   "cell_type": "code",
   "execution_count": 20,
   "id": "c8d6caff-fbed-491a-9546-4954eaca30e6",
   "metadata": {},
   "outputs": [
    {
     "name": "stdout",
     "output_type": "stream",
     "text": [
      "  Contrast               A             B  Paired  Parametric         T    dof  \\\n",
      "0  Species  Egregia_Spores  Macro_Spores   False        True -4.260684  714.0   \n",
      "\n",
      "  alternative     p-unc     BF10    hedges  \n",
      "0   two-sided  0.000023  552.796 -0.318124  \n"
     ]
    }
   ],
   "source": [
    "ttest2 = pg.pairwise_ttests(data=settlement_density_melt, dv= 'Settlement_Density', between= 'Species',correction= 'auto') \n",
    "print(ttest2)\n",
    "#Settlement density varies significantly between both Species and Culture Type"
   ]
  },
  {
   "cell_type": "code",
   "execution_count": 21,
   "id": "cd32f482-711d-42b2-8ba0-880fb22ea610",
   "metadata": {},
   "outputs": [
    {
     "name": "stdout",
     "output_type": "stream",
     "text": [
      "                 Contrast Culture_Type               A             B Paired  \\\n",
      "0            Culture_Type            -            Mono          Poly  False   \n",
      "1                 Species            -  Egregia_Spores  Macro_Spores  False   \n",
      "2  Culture_Type * Species         Mono  Egregia_Spores  Macro_Spores  False   \n",
      "3  Culture_Type * Species         Poly  Egregia_Spores  Macro_Spores  False   \n",
      "\n",
      "   Parametric          T    dof alternative         p-unc       BF10    hedges  \n",
      "0        True  18.427749  714.0   two-sided  2.495793e-62  4.514e+58  1.375907  \n",
      "1        True  -4.260684  714.0   two-sided  2.311191e-05    552.796 -0.318124  \n",
      "2        True  -5.801414  356.0   two-sided  1.453617e-08   6.91e+05 -0.611936  \n",
      "3        True  -0.042808  356.0   two-sided  9.658787e-01      0.117 -0.004515  \n"
     ]
    }
   ],
   "source": [
    "ttest3 = pg.pairwise_ttests(data=settlement_density_melt, dv= 'Settlement_Density', between= ['Culture_Type', 'Species'],correction= 'auto') \n",
    "print(ttest3)\n",
    "\n"
   ]
  },
  {
   "cell_type": "markdown",
   "id": "ffd51995-4f21-4568-8c5b-289b41332a30",
   "metadata": {},
   "source": [
    "#### Summary"
   ]
  },
  {
   "cell_type": "markdown",
   "id": "c24d69c5-a3f5-45fa-9919-a0f47b3437b5",
   "metadata": {},
   "source": [
    "##### There were significant interactions between culture type and settlement density as well as between species and settlement density. In addition, the interaction between culture type and species was significant in Monocultures of Egregia and Macro spores. "
   ]
  },
  {
   "cell_type": "markdown",
   "id": "8d327523-9315-44a8-aee0-c30bb3e1eb2c",
   "metadata": {},
   "source": [
    "### The Effects of Light on the Timing of Egg Production"
   ]
  },
  {
   "cell_type": "code",
   "execution_count": 22,
   "id": "4976ae28-4ee9-4b46-8d91-64e75a59279c",
   "metadata": {},
   "outputs": [
    {
     "name": "stdout",
     "output_type": "stream",
     "text": [
      "     Species Culture_Type Light_Level  Day  Av_Eggs/FOV  Ratio_Mature\n",
      "0      Macro         Mono         Low    1          0.0           0.0\n",
      "1      Macro         Mono         Low    2          0.0           0.0\n",
      "2      Macro         Mono         Low    3          0.0           0.0\n",
      "3      Macro         Mono         Low    4          0.0           0.0\n",
      "4      Macro         Mono         Low    5          0.0           0.0\n",
      "..       ...          ...         ...  ...          ...           ...\n",
      "571  Egregia         Poly   Very High   32          NaN           NaN\n",
      "572  Egregia         Poly   Very High   33          NaN           NaN\n",
      "573  Egregia         Poly   Very High   34          NaN           NaN\n",
      "574  Egregia         Poly   Very High   35          NaN           NaN\n",
      "575  Egregia         Poly   Very High   36          NaN           NaN\n",
      "\n",
      "[576 rows x 6 columns]\n"
     ]
    }
   ],
   "source": [
    "#Import egg_timing dataset\n",
    "egg_timing = pd.read_excel(r'MS263_FinalProject_Data_EggTiming.xlsx')\n",
    "print (egg_timing)"
   ]
  },
  {
   "cell_type": "code",
   "execution_count": 23,
   "id": "22ade65a-fa02-4995-81fe-f551be5f1a7d",
   "metadata": {},
   "outputs": [],
   "source": [
    "egg_timing_good = egg_timing.dropna() #Eliminate NA data"
   ]
  },
  {
   "cell_type": "code",
   "execution_count": 24,
   "id": "738bd927-93aa-4547-bbca-4a77c83bc5c3",
   "metadata": {},
   "outputs": [],
   "source": [
    "#subset data into Macrocystis Monoculture and Macrocystis Polyculture\n",
    "egg_timing_macro = egg_timing_good[egg_timing_good[\"Species\"].isin(['Macro'])] #subset so that the data only includes Macro\n",
    "et_macro_mono = egg_timing_macro[egg_timing_macro[\"Culture_Type\"].isin(['Mono'])] #subset so that the data only includes Monocultures of Macro\\\n",
    "et_macro_poly = egg_timing_macro[egg_timing_macro[\"Culture_Type\"].isin(['Poly'])] #subset so that the data only includes Polycultures of Macro"
   ]
  },
  {
   "cell_type": "code",
   "execution_count": 25,
   "id": "113b9272-df6f-4e71-98a8-c46a612c23b9",
   "metadata": {},
   "outputs": [
    {
     "data": {
      "text/plain": [
       "<seaborn.axisgrid.FacetGrid at 0x7ff3361d5910>"
      ]
     },
     "execution_count": 25,
     "metadata": {},
     "output_type": "execute_result"
    },
    {
     "data": {
      "image/png": "[encoded data removed]",
      "text/plain": [
       "<Figure size 804.5x360 with 1 Axes>"
      ]
     },
     "metadata": {
      "needs_background": "light"
     },
     "output_type": "display_data"
    },
    {
     "data": {
      "image/png": "[encoded data removed]",
      "text/plain": [
       "<Figure size 804.5x360 with 1 Axes>"
      ]
     },
     "metadata": {
      "needs_background": "light"
     },
     "output_type": "display_data"
    }
   ],
   "source": [
    "#Plot the proportion of females with eggs against day since spores were settled and light level for Macrocystis\n",
    "sns.relplot(data=et_macro_mono, x= \"Day\", y=\"Ratio_Mature\", hue=\"Light_Level\", aspect = 2).set(title=\"Ratio of Females with Eggs to Total Females in Macrocystis Monoculture\")\n",
    "sns.relplot(data=et_macro_poly, x= \"Day\", y=\"Ratio_Mature\", hue=\"Light_Level\", aspect = 2).set(title=\"Ratio of Females with Eggs to Total Females in Macrocystis Polyculture\")"
   ]
  },
  {
   "cell_type": "code",
   "execution_count": 26,
   "id": "686d96f7-de8f-47df-bcf0-dc8e94f9fe25",
   "metadata": {},
   "outputs": [],
   "source": [
    "egg_timing_egre = egg_timing_good[egg_timing_good[\"Species\"].isin(['Egregia'])] #subset so that the data only includes Macro\n",
    "et_egre_mono = egg_timing_egre[egg_timing_egre[\"Culture_Type\"].isin(['Mono'])] #subset so that the data only includes Monocultures of Macro\\\n",
    "et_egre_poly = egg_timing_egre[egg_timing_egre[\"Culture_Type\"].isin(['Poly'])] #subset so that the data only includes Polycultures of Macro"
   ]
  },
  {
   "cell_type": "code",
   "execution_count": 27,
   "id": "5d95a4e1-7137-4c61-8398-23d87c3718f9",
   "metadata": {},
   "outputs": [
    {
     "data": {
      "text/plain": [
       "<seaborn.axisgrid.FacetGrid at 0x7ff334ba9ca0>"
      ]
     },
     "execution_count": 27,
     "metadata": {},
     "output_type": "execute_result"
    },
    {
     "data": {
      "image/png": "[encoded data removed]",
      "text/plain": [
       "<Figure size 804.5x360 with 1 Axes>"
      ]
     },
     "metadata": {
      "needs_background": "light"
     },
     "output_type": "display_data"
    },
    {
     "data": {
      "image/png": "[encoded data removed]",
      "text/plain": [
       "<Figure size 804.5x360 with 1 Axes>"
      ]
     },
     "metadata": {
      "needs_background": "light"
     },
     "output_type": "display_data"
    }
   ],
   "source": [
    "#Plot the proportion of females with eggs against day since spores were settled and light level for Egregia\n",
    "sns.relplot(data=et_egre_mono, x= \"Day\", y=\"Ratio_Mature\", hue=\"Light_Level\", aspect = 2).set(title=\"Proportion of Female Gametophytes Producing Eggs in Egregia Monoculture\")\n",
    "sns.relplot(data=et_egre_poly, x= \"Day\", y=\"Ratio_Mature\", hue=\"Light_Level\", aspect = 2).set(title=\"Proportion of Female Gamteophyte Producing Eggs in Egregia Polyculture\")\n"
   ]
  },
  {
   "cell_type": "markdown",
   "id": "1cdde887-cb59-4244-b383-63c094d4fa35",
   "metadata": {},
   "source": [
    "## The Effects of Light on Overall Sporophyte and Egg Production\n"
   ]
  },
  {
   "cell_type": "code",
   "execution_count": 28,
   "id": "2d1d3d9c-e4dc-4475-a140-4f7d4e3a4c3c",
   "metadata": {},
   "outputs": [
    {
     "data": {
      "text/html": [
       "<div>\n",
       "<style scoped>\n",
       "    .dataframe tbody tr th:only-of-type {\n",
       "        vertical-align: middle;\n",
       "    }\n",
       "\n",
       "    .dataframe tbody tr th {\n",
       "        vertical-align: top;\n",
       "    }\n",
       "\n",
       "    .dataframe thead th {\n",
       "        text-align: right;\n",
       "    }\n",
       "</style>\n",
       "<table border=\"1\" class=\"dataframe\">\n",
       "  <thead>\n",
       "    <tr style=\"text-align: right;\">\n",
       "      <th></th>\n",
       "      <th>Species</th>\n",
       "      <th>Culture_Type</th>\n",
       "      <th>Light_Level</th>\n",
       "      <th>SporophytesperFemale</th>\n",
       "      <th>Days_50_Eggs</th>\n",
       "    </tr>\n",
       "  </thead>\n",
       "  <tbody>\n",
       "    <tr>\n",
       "      <th>0</th>\n",
       "      <td>Macro</td>\n",
       "      <td>Mono</td>\n",
       "      <td>Low</td>\n",
       "      <td>0.34</td>\n",
       "      <td>35.0</td>\n",
       "    </tr>\n",
       "    <tr>\n",
       "      <th>1</th>\n",
       "      <td>Macro</td>\n",
       "      <td>Mono</td>\n",
       "      <td>Medium</td>\n",
       "      <td>0.63</td>\n",
       "      <td>31.0</td>\n",
       "    </tr>\n",
       "    <tr>\n",
       "      <th>2</th>\n",
       "      <td>Macro</td>\n",
       "      <td>Mono</td>\n",
       "      <td>High</td>\n",
       "      <td>0.96</td>\n",
       "      <td>26.0</td>\n",
       "    </tr>\n",
       "    <tr>\n",
       "      <th>3</th>\n",
       "      <td>Macro</td>\n",
       "      <td>Mono</td>\n",
       "      <td>Very High</td>\n",
       "      <td>0.85</td>\n",
       "      <td>19.0</td>\n",
       "    </tr>\n",
       "    <tr>\n",
       "      <th>4</th>\n",
       "      <td>Macro</td>\n",
       "      <td>Poly</td>\n",
       "      <td>Low</td>\n",
       "      <td>0.35</td>\n",
       "      <td>NaN</td>\n",
       "    </tr>\n",
       "    <tr>\n",
       "      <th>...</th>\n",
       "      <td>...</td>\n",
       "      <td>...</td>\n",
       "      <td>...</td>\n",
       "      <td>...</td>\n",
       "      <td>...</td>\n",
       "    </tr>\n",
       "    <tr>\n",
       "      <th>59</th>\n",
       "      <td>Egregia</td>\n",
       "      <td>Mono</td>\n",
       "      <td>Very High</td>\n",
       "      <td>0.99</td>\n",
       "      <td>15.0</td>\n",
       "    </tr>\n",
       "    <tr>\n",
       "      <th>60</th>\n",
       "      <td>Egregia</td>\n",
       "      <td>Poly</td>\n",
       "      <td>Low</td>\n",
       "      <td>0.43</td>\n",
       "      <td>NaN</td>\n",
       "    </tr>\n",
       "    <tr>\n",
       "      <th>61</th>\n",
       "      <td>Egregia</td>\n",
       "      <td>Poly</td>\n",
       "      <td>Medium</td>\n",
       "      <td>0.70</td>\n",
       "      <td>34.0</td>\n",
       "    </tr>\n",
       "    <tr>\n",
       "      <th>62</th>\n",
       "      <td>Egregia</td>\n",
       "      <td>Poly</td>\n",
       "      <td>High</td>\n",
       "      <td>0.66</td>\n",
       "      <td>29.0</td>\n",
       "    </tr>\n",
       "    <tr>\n",
       "      <th>63</th>\n",
       "      <td>Egregia</td>\n",
       "      <td>Poly</td>\n",
       "      <td>Very High</td>\n",
       "      <td>0.92</td>\n",
       "      <td>18.0</td>\n",
       "    </tr>\n",
       "  </tbody>\n",
       "</table>\n",
       "<p>64 rows × 5 columns</p>\n",
       "</div>"
      ],
      "text/plain": [
       "    Species Culture_Type Light_Level  SporophytesperFemale  Days_50_Eggs\n",
       "0     Macro         Mono         Low                  0.34          35.0\n",
       "1     Macro         Mono      Medium                  0.63          31.0\n",
       "2     Macro         Mono        High                  0.96          26.0\n",
       "3     Macro         Mono   Very High                  0.85          19.0\n",
       "4     Macro         Poly         Low                  0.35           NaN\n",
       "..      ...          ...         ...                   ...           ...\n",
       "59  Egregia         Mono   Very High                  0.99          15.0\n",
       "60  Egregia         Poly         Low                  0.43           NaN\n",
       "61  Egregia         Poly      Medium                  0.70          34.0\n",
       "62  Egregia         Poly        High                  0.66          29.0\n",
       "63  Egregia         Poly   Very High                  0.92          18.0\n",
       "\n",
       "[64 rows x 5 columns]"
      ]
     },
     "execution_count": 28,
     "metadata": {},
     "output_type": "execute_result"
    }
   ],
   "source": [
    "eggs_and_sporos = egg_timing = pd.read_excel(r'MS263_FinalProject_SporophyteProduction.xlsx')\n",
    "eggs_and_sporos"
   ]
  },
  {
   "cell_type": "code",
   "execution_count": 29,
   "id": "c7827eb1-68c7-40da-bb36-3d2cef7a463f",
   "metadata": {},
   "outputs": [],
   "source": [
    "#eliminate NA values\n",
    "ES_good = eggs_and_sporos.dropna() #Eliminate NA data"
   ]
  },
  {
   "cell_type": "code",
   "execution_count": 49,
   "id": "cd8d8b59-27a8-46d5-9158-c1f0ca30d983",
   "metadata": {},
   "outputs": [],
   "source": [
    "#subset data in order to test for normality\n",
    "\n",
    "ES_M = ES_good[ES_good[\"Species\"].isin(['Macro'])]\n",
    "\n",
    "ES_M_Mono= ES_M[ES_M[\"Culture_Type\"].isin(['Mono'])] \n",
    "\n",
    "df1 = ES_M_Mono[ES_M_Mono[\"Light_Level\"].isin(['Low'])]\n",
    "df2 = ES_M_Mono[ES_M_Mono[\"Light_Level\"].isin(['Medium'])]\n",
    "df3 = ES_M_Mono[ES_M_Mono[\"Light_Level\"].isin(['High'])]\n",
    "df4 = ES_M_Mono[ES_M_Mono[\"Light_Level\"].isin(['Very High'])]\n",
    "\n",
    "ES_M_Poly= ES_M[ES_M[\"Culture_Type\"].isin(['Poly'])]\n",
    "\n",
    "df5 = ES_M_Poly[ES_M_Poly[\"Light_Level\"].isin(['Low'])]\n",
    "df6 = ES_M_Poly[ES_M_Poly[\"Light_Level\"].isin(['Medium'])]\n",
    "df7 = ES_M_Poly[ES_M_Poly[\"Light_Level\"].isin(['High'])]\n",
    "df8 = ES_M_Poly[ES_M_Poly[\"Light_Level\"].isin(['Very High'])]\n",
    "\n",
    "\n",
    "\n",
    "ES_E = ES_good[ES_good[\"Species\"].isin(['Macro'])]\n",
    "\n",
    "ES_E_Mono= ES_E[ES_E[\"Culture_Type\"].isin(['Mono'])] \n",
    "\n",
    "df9 = ES_E_Mono[ES_E_Mono[\"Light_Level\"].isin(['Low'])]\n",
    "df10 = ES_E_Mono[ES_E_Mono[\"Light_Level\"].isin(['Medium'])]\n",
    "df11 = ES_E_Mono[ES_E_Mono[\"Light_Level\"].isin(['High'])]\n",
    "df12 = ES_E_Mono[ES_E_Mono[\"Light_Level\"].isin(['Very High'])]\n",
    "\n",
    "ES_E_Poly= ES_E[ES_E[\"Culture_Type\"].isin(['Poly'])]\n",
    "\n",
    "df13 = ES_E_Poly[ES_E_Poly[\"Light_Level\"].isin(['Low'])]\n",
    "df14= ES_E_Poly[ES_E_Poly[\"Light_Level\"].isin(['Medium'])]\n",
    "df15 = ES_E_Poly[ES_E_Poly[\"Light_Level\"].isin(['High'])]\n",
    "df16 = ES_E_Poly[ES_E_Poly[\"Light_Level\"].isin(['Very High'])]\n",
    "\n",
    "\n",
    "X = list()\n",
    "list_df = [df2,df3,df4,df6,df7,df8,df10,df11,df12,df14,df15,df16]"
   ]
  },
  {
   "cell_type": "markdown",
   "id": "a1185ae5-c828-49ee-b117-1a09f981e875",
   "metadata": {},
   "source": [
    "### Number of Days until 50% of Female Gametophytes Produced Eggs"
   ]
  },
  {
   "cell_type": "code",
   "execution_count": 31,
   "id": "a21714bb-0334-430d-ba21-e1d820c57fd5",
   "metadata": {},
   "outputs": [
    {
     "data": {
      "image/png": "[encoded data removed]",
      "text/plain": [
       "<Figure size 432.125x360 with 1 Axes>"
      ]
     },
     "metadata": {
      "needs_background": "light"
     },
     "output_type": "display_data"
    },
    {
     "data": {
      "image/png": "[encoded data removed]",
      "text/plain": [
       "<Figure size 444.5x360 with 1 Axes>"
      ]
     },
     "metadata": {
      "needs_background": "light"
     },
     "output_type": "display_data"
    }
   ],
   "source": [
    "#Graph Data\n",
    "sns.catplot(data=ES_good, kind=\"bar\", x=\"Species\", y=\"Days_50_Eggs\", hue=\"Culture_Type\",).set(title='Days until 50% of Females Produced Eggs');\n",
    "sns.catplot(data=ES_good, kind=\"bar\", x=\"Species\", y=\"Days_50_Eggs\", hue=\"Light_Level\",).set(title='Days until 50% of Females Produced Eggs');\n"
   ]
  },
  {
   "cell_type": "code",
   "execution_count": 50,
   "id": "b9217a86-ef41-4121-8c23-76c5f584a892",
   "metadata": {},
   "outputs": [
    {
     "data": {
      "text/plain": [
       "[ShapiroResult(statistic=0.971327006816864, pvalue=0.849683403968811),\n",
       " ShapiroResult(statistic=0.9908954501152039, pvalue=0.9620108008384705),\n",
       " ShapiroResult(statistic=0.9392696619033813, pvalue=0.6498783826828003),\n",
       " ShapiroResult(statistic=0.896539568901062, pvalue=0.41407454013824463),\n",
       " ShapiroResult(statistic=0.8783183693885803, pvalue=0.33150339126586914),\n",
       " ShapiroResult(statistic=0.7526593804359436, pvalue=0.04089093580842018),\n",
       " ShapiroResult(statistic=0.971327006816864, pvalue=0.849683403968811),\n",
       " ShapiroResult(statistic=0.9908954501152039, pvalue=0.9620108008384705),\n",
       " ShapiroResult(statistic=0.9392696619033813, pvalue=0.6498783826828003),\n",
       " ShapiroResult(statistic=0.896539568901062, pvalue=0.41407454013824463),\n",
       " ShapiroResult(statistic=0.8783183693885803, pvalue=0.33150339126586914),\n",
       " ShapiroResult(statistic=0.7526593804359436, pvalue=0.04089093580842018)]"
      ]
     },
     "execution_count": 50,
     "metadata": {},
     "output_type": "execute_result"
    }
   ],
   "source": [
    "#Test for Normality\n",
    "shapiro_func(list_df, 'Days_50_Eggs')\n",
    "#The data looks relatively normal"
   ]
  },
  {
   "cell_type": "code",
   "execution_count": 52,
   "id": "83ae8788-c0ad-44f8-a695-b0b068ec2bba",
   "metadata": {},
   "outputs": [
    {
     "data": {
      "text/plain": [
       "(array([1., 0., 0., 0., 0., 0., 1., 0., 0., 2.]),\n",
       " array([0.34 , 0.372, 0.404, 0.436, 0.468, 0.5  , 0.532, 0.564, 0.596,\n",
       "        0.628, 0.66 ]),\n",
       " <BarContainer object of 10 artists>)"
      ]
     },
     "execution_count": 52,
     "metadata": {},
     "output_type": "execute_result"
    },
    {
     "data": {
      "image/png": "[encoded data removed]",
      "text/plain": [
       "<Figure size 432x288 with 1 Axes>"
      ]
     },
     "metadata": {
      "needs_background": "light"
     },
     "output_type": "display_data"
    },
    {
     "data": {
      "image/png": "[encoded data removed]",
      "text/plain": [
       "<Figure size 432x288 with 1 Axes>"
      ]
     },
     "metadata": {
      "needs_background": "light"
     },
     "output_type": "display_data"
    },
    {
     "data": {
      "image/png": "[encoded data removed]",
      "text/plain": [
       "<Figure size 432x288 with 1 Axes>"
      ]
     },
     "metadata": {
      "needs_background": "light"
     },
     "output_type": "display_data"
    },
    {
     "data": {
      "image/png": "[encoded data removed]",
      "text/plain": [
       "<Figure size 432x288 with 1 Axes>"
      ]
     },
     "metadata": {
      "needs_background": "light"
     },
     "output_type": "display_data"
    },
    {
     "data": {
      "image/png": "[encoded data removed]",
      "text/plain": [
       "<Figure size 432x288 with 1 Axes>"
      ]
     },
     "metadata": {
      "needs_background": "light"
     },
     "output_type": "display_data"
    },
    {
     "data": {
      "image/png": "[encoded data removed]",
      "text/plain": [
       "<Figure size 432x288 with 1 Axes>"
      ]
     },
     "metadata": {
      "needs_background": "light"
     },
     "output_type": "display_data"
    },
    {
     "data": {
      "image/png": "[encoded data removed]",
      "text/plain": [
       "<Figure size 432x288 with 1 Axes>"
      ]
     },
     "metadata": {
      "needs_background": "light"
     },
     "output_type": "display_data"
    },
    {
     "data": {
      "image/png": "[encoded data removed]",
      "text/plain": [
       "<Figure size 432x288 with 1 Axes>"
      ]
     },
     "metadata": {
      "needs_background": "light"
     },
     "output_type": "display_data"
    },
    {
     "data": {
      "image/png": "[encoded data removed]",
      "text/plain": [
       "<Figure size 432x288 with 1 Axes>"
      ]
     },
     "metadata": {
      "needs_background": "light"
     },
     "output_type": "display_data"
    },
    {
     "data": {
      "image/png": "[encoded data removed]",
      "text/plain": [
       "<Figure size 432x288 with 1 Axes>"
      ]
     },
     "metadata": {
      "needs_background": "light"
     },
     "output_type": "display_data"
    },
    {
     "data": {
      "image/png": "[encoded data removed]",
      "text/plain": [
       "<Figure size 432x288 with 1 Axes>"
      ]
     },
     "metadata": {
      "needs_background": "light"
     },
     "output_type": "display_data"
    },
    {
     "data": {
      "image/png": "[encoded data removed]",
      "text/plain": [
       "<Figure size 432x288 with 1 Axes>"
      ]
     },
     "metadata": {
      "needs_background": "light"
     },
     "output_type": "display_data"
    }
   ],
   "source": [
    "#test for normality with histograms\n",
    "from Final import histograms\n",
    "histograms(list_df, 'Days_50_Eggs')"
   ]
  },
  {
   "cell_type": "markdown",
   "id": "417a94f5-4a2e-40e9-9e5e-76487ce252ff",
   "metadata": {},
   "source": [
    "##### This is a relatively small data set, therefore the tests of normality and homoscedasticity are limited in power. Ive decided to procede with the tests as this is my thesis data, and I will continue to build on this dataset\n",
    "    "
   ]
  },
  {
   "cell_type": "code",
   "execution_count": null,
   "id": "693bfd21-70ff-41b2-923a-fba8411ce90e",
   "metadata": {},
   "outputs": [],
   "source": [
    "eq_var_SP = pg.homoscedasticity(data= ES_good, dv= 'Days_50_Eggs', group = 'Species', method= 'levene',alpha=.05)\n",
    "eq_var_CT = pg.homoscedasticity(data= ES_good, dv= 'Days_50_Eggs', group = 'Culture_Type', method= 'levene',alpha=.05)\n",
    "eq_var_LL = pg.homoscedasticity(data= ES_good, dv= 'Days_50_Eggs', group = 'Light_Level', method= 'levene',alpha=.05)\n",
    "print(eq_var_SP, eq_var_CT, eq_var_LL)\n",
    "\n",
    "#variances are equal"
   ]
  },
  {
   "cell_type": "code",
   "execution_count": 53,
   "id": "3b582e6b-80e7-48b1-bdf2-1f1d4338e420",
   "metadata": {},
   "outputs": [
    {
     "name": "stderr",
     "output_type": "stream",
     "text": [
      "/Users/jayceelanza/opt/miniconda3/lib/python3.8/site-packages/statsmodels/base/model.py:1871: ValueWarning: covariance of constraints does not have full rank. The number of constraints is 3, but rank is 2\n",
      "  warnings.warn('covariance of constraints does not have full '\n"
     ]
    },
    {
     "data": {
      "text/html": [
       "<div>\n",
       "<style scoped>\n",
       "    .dataframe tbody tr th:only-of-type {\n",
       "        vertical-align: middle;\n",
       "    }\n",
       "\n",
       "    .dataframe tbody tr th {\n",
       "        vertical-align: top;\n",
       "    }\n",
       "\n",
       "    .dataframe thead th {\n",
       "        text-align: right;\n",
       "    }\n",
       "</style>\n",
       "<table border=\"1\" class=\"dataframe\">\n",
       "  <thead>\n",
       "    <tr style=\"text-align: right;\">\n",
       "      <th></th>\n",
       "      <th>sum_sq</th>\n",
       "      <th>df</th>\n",
       "      <th>F</th>\n",
       "      <th>PR(&gt;F)</th>\n",
       "    </tr>\n",
       "  </thead>\n",
       "  <tbody>\n",
       "    <tr>\n",
       "      <th>Intercept</th>\n",
       "      <td>2112.602083</td>\n",
       "      <td>1.0</td>\n",
       "      <td>197.757982</td>\n",
       "      <td>6.932239e-18</td>\n",
       "    </tr>\n",
       "    <tr>\n",
       "      <th>C(species)</th>\n",
       "      <td>9.630208</td>\n",
       "      <td>1.0</td>\n",
       "      <td>0.901472</td>\n",
       "      <td>3.475736e-01</td>\n",
       "    </tr>\n",
       "    <tr>\n",
       "      <th>C(lightlevel)</th>\n",
       "      <td>1027.951389</td>\n",
       "      <td>3.0</td>\n",
       "      <td>32.075072</td>\n",
       "      <td>3.795165e-11</td>\n",
       "    </tr>\n",
       "    <tr>\n",
       "      <th>C(culture)</th>\n",
       "      <td>148.755208</td>\n",
       "      <td>1.0</td>\n",
       "      <td>13.924785</td>\n",
       "      <td>5.422346e-04</td>\n",
       "    </tr>\n",
       "    <tr>\n",
       "      <th>C(species):C(lightlevel)</th>\n",
       "      <td>25.885417</td>\n",
       "      <td>3.0</td>\n",
       "      <td>0.807700</td>\n",
       "      <td>4.964020e-01</td>\n",
       "    </tr>\n",
       "    <tr>\n",
       "      <th>C(species):C(culture)</th>\n",
       "      <td>44.083333</td>\n",
       "      <td>1.0</td>\n",
       "      <td>4.126585</td>\n",
       "      <td>4.828170e-02</td>\n",
       "    </tr>\n",
       "    <tr>\n",
       "      <th>C(culture):C(lightlevel)</th>\n",
       "      <td>2.312500</td>\n",
       "      <td>3.0</td>\n",
       "      <td>0.072157</td>\n",
       "      <td>9.304949e-01</td>\n",
       "    </tr>\n",
       "    <tr>\n",
       "      <th>Residual</th>\n",
       "      <td>470.041667</td>\n",
       "      <td>44.0</td>\n",
       "      <td>NaN</td>\n",
       "      <td>NaN</td>\n",
       "    </tr>\n",
       "  </tbody>\n",
       "</table>\n",
       "</div>"
      ],
      "text/plain": [
       "                               sum_sq    df           F        PR(>F)\n",
       "Intercept                 2112.602083   1.0  197.757982  6.932239e-18\n",
       "C(species)                   9.630208   1.0    0.901472  3.475736e-01\n",
       "C(lightlevel)             1027.951389   3.0   32.075072  3.795165e-11\n",
       "C(culture)                 148.755208   1.0   13.924785  5.422346e-04\n",
       "C(species):C(lightlevel)    25.885417   3.0    0.807700  4.964020e-01\n",
       "C(species):C(culture)       44.083333   1.0    4.126585  4.828170e-02\n",
       "C(culture):C(lightlevel)     2.312500   3.0    0.072157  9.304949e-01\n",
       "Residual                   470.041667  44.0         NaN           NaN"
      ]
     },
     "execution_count": 53,
     "metadata": {},
     "output_type": "execute_result"
    }
   ],
   "source": [
    "#as variances are equal and data is relatively normal, a normal ANOVA can be used\n",
    "\n",
    "Days_50_Eggs = ES_good['Days_50_Eggs']\n",
    "species = ES_good['Species']\n",
    "lightlevel = ES_good['Light_Level']\n",
    "culture = ES_good['Culture_Type']\n",
    "\n",
    "\n",
    "model = ols('Days_50_Eggs ~ C(species) + C(lightlevel) + C(culture)+ C(species):C(lightlevel)+ C(species):C(culture)+C(culture):C(lightlevel)', data=ES_good).fit()\n",
    "anova_table = sm.stats.anova_lm(model, typ=3)\n",
    "anova_table"
   ]
  },
  {
   "cell_type": "markdown",
   "id": "aa549539-7a2e-4f20-a12f-f23699a8bd20",
   "metadata": {},
   "source": [
    "\n"
   ]
  },
  {
   "cell_type": "code",
   "execution_count": 54,
   "id": "712887d5-0b6e-4ec6-95d8-9fed6e6e5ee4",
   "metadata": {},
   "outputs": [
    {
     "name": "stdout",
     "output_type": "stream",
     "text": [
      "   group1     group2     Diff      Lower      Upper    q-value   p-value\n",
      "0     Low     Medium   2.3750  -1.404066   6.154066   2.373210  0.347612\n",
      "1     Low       High   9.1875   5.408434  12.966566   9.180575  0.001000\n",
      "2     Low  Very High  15.3125  11.533434  19.091566  15.300958  0.001000\n",
      "3  Medium       High   6.8125   3.726906   9.898094   8.337285  0.001000\n",
      "4  Medium  Very High  12.9375   9.851906  16.023094  15.833193  0.001000\n",
      "5    High  Very High   6.1250   3.039406   9.210594   7.495908  0.001000   group1 group2     Diff     Lower     Upper   q-value   p-value\n",
      "0   Mono   Poly  1.84375  0.065022  3.622478  2.954349  0.042522\n"
     ]
    },
    {
     "name": "stderr",
     "output_type": "stream",
     "text": [
      "/Users/jayceelanza/opt/miniconda3/lib/python3.8/site-packages/bioinfokit/analys.py:402: FutureWarning: Dropping of nuisance columns in DataFrame reductions (with 'numeric_only=None') is deprecated; in a future version this will raise TypeError.  Select only valid columns before calling the reduction.\n",
      "  mult_group[ele] = df[df[xfac_var] == ele].mean().loc[res_var]\n",
      "/Users/jayceelanza/opt/miniconda3/lib/python3.8/site-packages/statsmodels/base/model.py:1871: ValueWarning: covariance of constraints does not have full rank. The number of constraints is 3, but rank is 2\n",
      "  warnings.warn('covariance of constraints does not have full '\n",
      "/Users/jayceelanza/opt/miniconda3/lib/python3.8/site-packages/statsmodels/base/model.py:1871: ValueWarning: covariance of constraints does not have full rank. The number of constraints is 3, but rank is 2\n",
      "  warnings.warn('covariance of constraints does not have full '\n",
      "/Users/jayceelanza/opt/miniconda3/lib/python3.8/site-packages/bioinfokit/analys.py:402: FutureWarning: Dropping of nuisance columns in DataFrame reductions (with 'numeric_only=None') is deprecated; in a future version this will raise TypeError.  Select only valid columns before calling the reduction.\n",
      "  mult_group[ele] = df[df[xfac_var] == ele].mean().loc[res_var]\n",
      "/Users/jayceelanza/opt/miniconda3/lib/python3.8/site-packages/statsmodels/base/model.py:1871: ValueWarning: covariance of constraints does not have full rank. The number of constraints is 3, but rank is 2\n",
      "  warnings.warn('covariance of constraints does not have full '\n",
      "/Users/jayceelanza/opt/miniconda3/lib/python3.8/site-packages/statsmodels/base/model.py:1871: ValueWarning: covariance of constraints does not have full rank. The number of constraints is 3, but rank is 2\n",
      "  warnings.warn('covariance of constraints does not have full '\n"
     ]
    }
   ],
   "source": [
    "#post hoc tukey test\n",
    "import bioinfokit\n",
    "from bioinfokit.analys import stat\n",
    "\n",
    "res = stat()\n",
    "res.tukey_hsd(df=ES_good, res_var= 'Days_50_Eggs', xfac_var='Light_Level', anova_model= 'Days_50_Eggs ~ C(Species) + C(Light_Level) + C(Culture_Type)+ C(Species):C(Light_Level)+ C(Species):C(Culture_Type)+C(Culture_Type):C(Light_Level)')\n",
    "LL1= res.tukey_summary\n",
    "\n",
    "res = stat()\n",
    "res.tukey_hsd(df=ES_good, res_var= 'Days_50_Eggs', xfac_var='Culture_Type', anova_model= 'Days_50_Eggs ~ C(Species) + C(Light_Level) + C(Culture_Type)+ C(Species):C(Light_Level)+ C(Species):C(Culture_Type)+C(Culture_Type):C(Light_Level)')\n",
    "CT1= res.tukey_summary\n",
    "\n",
    "print(LL1, CT1)"
   ]
  },
  {
   "cell_type": "code",
   "execution_count": 55,
   "id": "a43a7f38-2c88-4c92-9b58-0649fb2d65ed",
   "metadata": {},
   "outputs": [
    {
     "name": "stderr",
     "output_type": "stream",
     "text": [
      "/Users/jayceelanza/opt/miniconda3/lib/python3.8/site-packages/bioinfokit/analys.py:368: FutureWarning: Dropping of nuisance columns in DataFrame reductions (with 'numeric_only=None') is deprecated; in a future version this will raise TypeError.  Select only valid columns before calling the reduction.\n",
      "  mult_group[(ele1, ele2)] = df[(df[xfac_var[0]] == ele1) &\n",
      "/Users/jayceelanza/opt/miniconda3/lib/python3.8/site-packages/statsmodels/base/model.py:1871: ValueWarning: covariance of constraints does not have full rank. The number of constraints is 3, but rank is 2\n",
      "  warnings.warn('covariance of constraints does not have full '\n",
      "/Users/jayceelanza/opt/miniconda3/lib/python3.8/site-packages/statsmodels/base/model.py:1871: ValueWarning: covariance of constraints does not have full rank. The number of constraints is 3, but rank is 2\n",
      "  warnings.warn('covariance of constraints does not have full '\n",
      "/Users/jayceelanza/opt/miniconda3/lib/python3.8/site-packages/bioinfokit/analys.py:368: FutureWarning: Dropping of nuisance columns in DataFrame reductions (with 'numeric_only=None') is deprecated; in a future version this will raise TypeError.  Select only valid columns before calling the reduction.\n",
      "  mult_group[(ele1, ele2)] = df[(df[xfac_var[0]] == ele1) &\n",
      "/Users/jayceelanza/opt/miniconda3/lib/python3.8/site-packages/statsmodels/base/model.py:1871: ValueWarning: covariance of constraints does not have full rank. The number of constraints is 3, but rank is 2\n",
      "  warnings.warn('covariance of constraints does not have full '\n",
      "/Users/jayceelanza/opt/miniconda3/lib/python3.8/site-packages/statsmodels/base/model.py:1871: ValueWarning: covariance of constraints does not have full rank. The number of constraints is 3, but rank is 2\n",
      "  warnings.warn('covariance of constraints does not have full '\n"
     ]
    },
    {
     "name": "stdout",
     "output_type": "stream",
     "text": [
      "                group1                group2    Diff      Lower      Upper  \\\n",
      "0         (Macro, Low)       (Macro, Medium)   2.000  -4.366962   8.366962   \n",
      "1         (Macro, Low)         (Macro, High)   8.875   2.508038  15.241962   \n",
      "2         (Macro, Low)    (Macro, Very High)  14.000   7.633038  20.366962   \n",
      "3         (Macro, Low)        (Egregia, Low)   0.750  -6.601935   8.101935   \n",
      "4         (Macro, Low)     (Egregia, Medium)   2.000  -4.366962   8.366962   \n",
      "5         (Macro, Low)       (Egregia, High)   8.750   2.383038  15.116962   \n",
      "6         (Macro, Low)  (Egregia, Very High)  15.875   9.508038  22.241962   \n",
      "7      (Macro, Medium)         (Macro, High)   6.875   1.676397  12.073603   \n",
      "8      (Macro, Medium)    (Macro, Very High)  12.000   6.801397  17.198603   \n",
      "9      (Macro, Medium)        (Egregia, Low)   2.750  -3.616962   9.116962   \n",
      "10     (Macro, Medium)     (Egregia, Medium)   0.000  -5.198603   5.198603   \n",
      "11     (Macro, Medium)       (Egregia, High)   6.750   1.551397  11.948603   \n",
      "12     (Macro, Medium)  (Egregia, Very High)  13.875   8.676397  19.073603   \n",
      "13       (Macro, High)    (Macro, Very High)   5.125  -0.073603  10.323603   \n",
      "14       (Macro, High)        (Egregia, Low)   9.625   3.258038  15.991962   \n",
      "15       (Macro, High)     (Egregia, Medium)   6.875   1.676397  12.073603   \n",
      "16       (Macro, High)       (Egregia, High)   0.125  -5.073603   5.323603   \n",
      "17       (Macro, High)  (Egregia, Very High)   7.000   1.801397  12.198603   \n",
      "18  (Macro, Very High)        (Egregia, Low)  14.750   8.383038  21.116962   \n",
      "19  (Macro, Very High)     (Egregia, Medium)  12.000   6.801397  17.198603   \n",
      "20  (Macro, Very High)       (Egregia, High)   5.250   0.051397  10.448603   \n",
      "21  (Macro, Very High)  (Egregia, Very High)   1.875  -3.323603   7.073603   \n",
      "22      (Egregia, Low)     (Egregia, Medium)   2.750  -3.616962   9.116962   \n",
      "23      (Egregia, Low)       (Egregia, High)   9.500   3.133038  15.866962   \n",
      "24      (Egregia, Low)  (Egregia, Very High)  16.625  10.258038  22.991962   \n",
      "25   (Egregia, Medium)       (Egregia, High)   6.750   1.551397  11.948603   \n",
      "26   (Egregia, Medium)  (Egregia, Very High)  13.875   8.676397  19.073603   \n",
      "27     (Egregia, High)  (Egregia, Very High)   7.125   1.926397  12.323603   \n",
      "\n",
      "      q-value   p-value  \n",
      "0    1.413148  0.900000  \n",
      "1    6.270842  0.001456  \n",
      "2    9.892033  0.001000  \n",
      "3    0.458933  0.900000  \n",
      "4    1.413148  0.900000  \n",
      "5    6.182521  0.001764  \n",
      "6   11.216859  0.001000  \n",
      "7    5.949437  0.002913  \n",
      "8   10.384472  0.001000  \n",
      "9    1.943078  0.850539  \n",
      "10   0.000000  0.900000  \n",
      "11   5.841265  0.003663  \n",
      "12  12.007045  0.001000  \n",
      "13   4.435035  0.055901  \n",
      "14   6.800773  0.001000  \n",
      "15   5.949437  0.002913  \n",
      "16   0.108172  0.900000  \n",
      "17   6.057608  0.002310  \n",
      "18  10.421963  0.001000  \n",
      "19  10.384472  0.001000  \n",
      "20   4.543206  0.046268  \n",
      "21   1.622574  0.900000  \n",
      "22   1.943078  0.850539  \n",
      "23   6.712451  0.001000  \n",
      "24  11.746789  0.001000  \n",
      "25   5.841265  0.003663  \n",
      "26  12.007045  0.001000  \n",
      "27   6.165780  0.001828               group1           group2      Diff     Lower     Upper   q-value  \\\n",
      "0    (Macro, Mono)    (Macro, Poly)  0.333333 -2.999489  3.666156  0.377680   \n",
      "1    (Macro, Mono)  (Egregia, Mono)  1.687500 -1.398094  4.773094  2.065199   \n",
      "2    (Macro, Mono)  (Egregia, Poly)  1.666667 -1.666156  4.999489  1.888398   \n",
      "3    (Macro, Poly)  (Egregia, Mono)  2.020833 -1.311989  5.353656  2.289682   \n",
      "4    (Macro, Poly)  (Egregia, Poly)  1.333333 -2.229604  4.896271  1.413148   \n",
      "5  (Egregia, Mono)  (Egregia, Poly)  3.354167  0.021344  6.686989  3.800401   \n",
      "\n",
      "    p-value  \n",
      "0  0.900000  \n",
      "1  0.470734  \n",
      "2  0.541350  \n",
      "3  0.379663  \n",
      "4  0.727254  \n",
      "5  0.048031  \n"
     ]
    }
   ],
   "source": [
    "res = stat()\n",
    "res.tukey_hsd(df=ES_good, res_var= 'Days_50_Eggs', xfac_var=['Species', 'Light_Level'], anova_model= 'Days_50_Eggs ~ C(Species) + C(Light_Level) + C(Culture_Type)+ C(Species):C(Light_Level)+ C(Species):C(Culture_Type)+C(Culture_Type):C(Light_Level)')\n",
    "SPLL= res.tukey_summary\n",
    "\n",
    "res = stat()\n",
    "res.tukey_hsd(df=ES_good, res_var= 'Days_50_Eggs', xfac_var=['Species', 'Culture_Type'], anova_model= 'Days_50_Eggs ~ C(Species) + C(Light_Level) + C(Culture_Type)+ C(Species):C(Light_Level)+ C(Species):C(Culture_Type)+C(Culture_Type):C(Light_Level)')\n",
    "SPCT= res.tukey_summary\n",
    "\n",
    "\n",
    "print(SPLL, SPCT)"
   ]
  },
  {
   "cell_type": "code",
   "execution_count": 69,
   "id": "45460378-3b93-4907-ae9d-607d1f2d5785",
   "metadata": {},
   "outputs": [
    {
     "data": {
      "image/png": "[encoded data removed]",
      "text/plain": [
       "<Figure size 432x288 with 1 Axes>"
      ]
     },
     "metadata": {
      "needs_background": "light"
     },
     "output_type": "display_data"
    },
    {
     "data": {
      "image/png": "[encoded data removed]",
      "text/plain": [
       "<Figure size 432x288 with 1 Axes>"
      ]
     },
     "metadata": {
      "needs_background": "light"
     },
     "output_type": "display_data"
    },
    {
     "name": "stdout",
     "output_type": "stream",
     "text": [
      "0.9627022743225098 0.08090098202228546\n"
     ]
    }
   ],
   "source": [
    "# test residuals\n",
    "# QQ-plot\n",
    "import statsmodels.api as sm\n",
    "import matplotlib.pyplot as plt\n",
    "# res.anova_std_residuals are standardized residuals obtained from two-way ANOVA\n",
    "sm.qqplot(res.anova_std_residuals, line='45')\n",
    "plt.xlabel(\"Theoretical Quantiles\")\n",
    "plt.ylabel(\"Standardized Residuals\")\n",
    "plt.show()\n",
    "\n",
    "# histogram\n",
    "plt.hist(res.anova_model_out.resid, bins='auto', histtype='bar', ec='k') \n",
    "plt.xlabel(\"Residuals\")\n",
    "plt.ylabel('Frequency')\n",
    "plt.show()\n",
    "\n",
    "# Shapiro-Wilk test\n",
    "import scipy.stats as stats\n",
    "w, pvalue = stats.shapiro(res.anova_model_out.resid)\n",
    "print(w, pvalue)\n",
    "\n",
    "\n",
    "#residuals are normal"
   ]
  },
  {
   "cell_type": "markdown",
   "id": "63816f70-eba6-4221-8dc4-3fd2511957a1",
   "metadata": {},
   "source": [
    "#### Summary"
   ]
  },
  {
   "cell_type": "markdown",
   "id": "361c56fc-9747-4a74-a67b-8bc68511a373",
   "metadata": {
    "jp-MarkdownHeadingCollapsed": true,
    "tags": []
   },
   "source": [
    "##### Light Level had a strong affect on the timing of egg production. There were significant differences in eg gproduction between all light treatments except between Low and Medium. There was also a significant differences in the timing of egg production between culture type. The interaction between species and culture type was significant between Egregia monocultures and Egregia polycultures. The interaction between light level and species was significant for many of the interactions. \n",
    "\n",
    "##### There was no significant difference in the timing of egg production between species, and the interactions between culture type and light level and species and light level were not significant"
   ]
  },
  {
   "cell_type": "markdown",
   "id": "fc0aa7f3-6b2a-40db-8fb7-cbf97adb062d",
   "metadata": {},
   "source": [
    "#### Number of Sporophytes Produced per Female after 4 weeks"
   ]
  },
  {
   "cell_type": "code",
   "execution_count": 70,
   "id": "fa561c6a-a76e-47ed-8ddf-ba933ff1ef9f",
   "metadata": {},
   "outputs": [
    {
     "data": {
      "image/png": "[encoded data removed]",
      "text/plain": [
       "<Figure size 432.125x360 with 1 Axes>"
      ]
     },
     "metadata": {
      "needs_background": "light"
     },
     "output_type": "display_data"
    },
    {
     "data": {
      "image/png": "[encoded data removed]",
      "text/plain": [
       "<Figure size 444.5x360 with 1 Axes>"
      ]
     },
     "metadata": {
      "needs_background": "light"
     },
     "output_type": "display_data"
    }
   ],
   "source": [
    "#Graph Data\n",
    "sns.catplot(data=ES_good, kind=\"bar\", x=\"Species\", y=\"SporophytesperFemale\", hue=\"Culture_Type\",).set(title='Days until 50% of Females Produced Eggs');\n",
    "sns.catplot(data=ES_good, kind=\"bar\", x=\"Species\", y=\"SporophytesperFemale\", hue=\"Light_Level\",).set(title='Days until 50% of Females Produced Eggs');"
   ]
  },
  {
   "cell_type": "code",
   "execution_count": 60,
   "id": "5475bc85-710b-40f6-9928-75f9d0d021b6",
   "metadata": {},
   "outputs": [
    {
     "data": {
      "text/plain": [
       "[ShapiroResult(statistic=0.758766770362854, pvalue=0.0464971624314785),\n",
       " ShapiroResult(statistic=0.6297762393951416, pvalue=0.001240724348463118),\n",
       " ShapiroResult(statistic=0.6297762393951416, pvalue=0.001240724348463118),\n",
       " ShapiroResult(statistic=0.9935473203659058, pvalue=0.9748672246932983),\n",
       " ShapiroResult(statistic=0.8159253001213074, pvalue=0.1339835226535797),\n",
       " ShapiroResult(statistic=0.8703508377075195, pvalue=0.29906025528907776),\n",
       " ShapiroResult(statistic=0.758766770362854, pvalue=0.0464971624314785),\n",
       " ShapiroResult(statistic=0.6297762393951416, pvalue=0.001240724348463118),\n",
       " ShapiroResult(statistic=0.6297762393951416, pvalue=0.001240724348463118),\n",
       " ShapiroResult(statistic=0.9935473203659058, pvalue=0.9748672246932983),\n",
       " ShapiroResult(statistic=0.8159253001213074, pvalue=0.1339835226535797),\n",
       " ShapiroResult(statistic=0.8703508377075195, pvalue=0.29906025528907776)]"
      ]
     },
     "execution_count": 60,
     "metadata": {},
     "output_type": "execute_result"
    }
   ],
   "source": [
    "#test normality number of sporophytes\n",
    "shapiro_func(list_df, 'SporophytesperFemale')      \n",
    "#looks mostly normal"
   ]
  },
  {
   "cell_type": "code",
   "execution_count": 62,
   "id": "44711ee9-2953-4afd-a169-7c5f33d9a889",
   "metadata": {},
   "outputs": [
    {
     "data": {
      "text/plain": [
       "(array([1., 0., 0., 0., 0., 0., 1., 0., 0., 2.]),\n",
       " array([0.34 , 0.372, 0.404, 0.436, 0.468, 0.5  , 0.532, 0.564, 0.596,\n",
       "        0.628, 0.66 ]),\n",
       " <BarContainer object of 10 artists>)"
      ]
     },
     "execution_count": 62,
     "metadata": {},
     "output_type": "execute_result"
    },
    {
     "data": {
      "image/png": "[encoded data removed]",
      "text/plain": [
       "<Figure size 432x288 with 1 Axes>"
      ]
     },
     "metadata": {
      "needs_background": "light"
     },
     "output_type": "display_data"
    },
    {
     "data": {
      "image/png": "[encoded data removed]",
      "text/plain": [
       "<Figure size 432x288 with 1 Axes>"
      ]
     },
     "metadata": {
      "needs_background": "light"
     },
     "output_type": "display_data"
    },
    {
     "data": {
      "image/png": "[encoded data removed]",
      "text/plain": [
       "<Figure size 432x288 with 1 Axes>"
      ]
     },
     "metadata": {
      "needs_background": "light"
     },
     "output_type": "display_data"
    },
    {
     "data": {
      "image/png": "[encoded data removed]",
      "text/plain": [
       "<Figure size 432x288 with 1 Axes>"
      ]
     },
     "metadata": {
      "needs_background": "light"
     },
     "output_type": "display_data"
    },
    {
     "data": {
      "image/png": "[encoded data removed]",
      "text/plain": [
       "<Figure size 432x288 with 1 Axes>"
      ]
     },
     "metadata": {
      "needs_background": "light"
     },
     "output_type": "display_data"
    },
    {
     "data": {
      "image/png": "[encoded data removed]",
      "text/plain": [
       "<Figure size 432x288 with 1 Axes>"
      ]
     },
     "metadata": {
      "needs_background": "light"
     },
     "output_type": "display_data"
    },
    {
     "data": {
      "image/png": "[encoded data removed]",
      "text/plain": [
       "<Figure size 432x288 with 1 Axes>"
      ]
     },
     "metadata": {
      "needs_background": "light"
     },
     "output_type": "display_data"
    },
    {
     "data": {
      "image/png": "[encoded data removed]",
      "text/plain": [
       "<Figure size 432x288 with 1 Axes>"
      ]
     },
     "metadata": {
      "needs_background": "light"
     },
     "output_type": "display_data"
    },
    {
     "data": {
      "image/png": "[encoded data removed]",
      "text/plain": [
       "<Figure size 432x288 with 1 Axes>"
      ]
     },
     "metadata": {
      "needs_background": "light"
     },
     "output_type": "display_data"
    },
    {
     "data": {
      "image/png": "[encoded data removed]",
      "text/plain": [
       "<Figure size 432x288 with 1 Axes>"
      ]
     },
     "metadata": {
      "needs_background": "light"
     },
     "output_type": "display_data"
    },
    {
     "data": {
      "image/png": "[encoded data removed]",
      "text/plain": [
       "<Figure size 432x288 with 1 Axes>"
      ]
     },
     "metadata": {
      "needs_background": "light"
     },
     "output_type": "display_data"
    },
    {
     "data": {
      "image/png": "[encoded data removed]",
      "text/plain": [
       "<Figure size 432x288 with 1 Axes>"
      ]
     },
     "metadata": {
      "needs_background": "light"
     },
     "output_type": "display_data"
    }
   ],
   "source": [
    "#hists for sporophytes/female\n",
    "histograms(list_df, 'SporophytesperFemale')"
   ]
  },
  {
   "cell_type": "markdown",
   "id": "d45cbf5c-2efe-486d-9206-0073024de4f4",
   "metadata": {},
   "source": [
    "##### As stated above, this is a relatively small data set, therefore the tests of normality and homoscedasticity are limited in power. Ive decided to procede with the tests as this is my thesis data, and I will continue to build on this dataset\n",
    "    "
   ]
  },
  {
   "cell_type": "code",
   "execution_count": 63,
   "id": "a1638ea9-541e-4de4-9829-09d2d104a289",
   "metadata": {},
   "outputs": [
    {
     "name": "stdout",
     "output_type": "stream",
     "text": [
      "               W      pval  equal_var\n",
      "levene  3.005994  0.088664       True                W     pval  equal_var\n",
      "levene  2.375145  0.12912       True                W      pval  equal_var\n",
      "levene  1.002306  0.399251       True\n"
     ]
    }
   ],
   "source": [
    "eq_var_SP = pg.homoscedasticity(data= ES_good, dv= 'SporophytesperFemale', group = 'Species', method= 'levene',alpha=.05)\n",
    "eq_var_CT = pg.homoscedasticity(data= ES_good, dv= 'SporophytesperFemale', group = 'Culture_Type', method= 'levene',alpha=.05)\n",
    "eq_var_LL = pg.homoscedasticity(data= ES_good, dv= 'SporophytesperFemale', group = 'Light_Level', method= 'levene',alpha=.05)\n",
    "print(eq_var_SP, eq_var_CT, eq_var_LL)\n",
    "\n",
    "\n",
    "#equal variance assumption met"
   ]
  },
  {
   "cell_type": "code",
   "execution_count": 64,
   "id": "667db299-5540-4054-a779-43b69f51d6fb",
   "metadata": {},
   "outputs": [
    {
     "name": "stderr",
     "output_type": "stream",
     "text": [
      "/Users/jayceelanza/opt/miniconda3/lib/python3.8/site-packages/statsmodels/base/model.py:1871: ValueWarning: covariance of constraints does not have full rank. The number of constraints is 3, but rank is 2\n",
      "  warnings.warn('covariance of constraints does not have full '\n"
     ]
    },
    {
     "data": {
      "text/html": [
       "<div>\n",
       "<style scoped>\n",
       "    .dataframe tbody tr th:only-of-type {\n",
       "        vertical-align: middle;\n",
       "    }\n",
       "\n",
       "    .dataframe tbody tr th {\n",
       "        vertical-align: top;\n",
       "    }\n",
       "\n",
       "    .dataframe thead th {\n",
       "        text-align: right;\n",
       "    }\n",
       "</style>\n",
       "<table border=\"1\" class=\"dataframe\">\n",
       "  <thead>\n",
       "    <tr style=\"text-align: right;\">\n",
       "      <th></th>\n",
       "      <th>sum_sq</th>\n",
       "      <th>df</th>\n",
       "      <th>F</th>\n",
       "      <th>PR(&gt;F)</th>\n",
       "    </tr>\n",
       "  </thead>\n",
       "  <tbody>\n",
       "    <tr>\n",
       "      <th>Intercept</th>\n",
       "      <td>3.194803</td>\n",
       "      <td>1.0</td>\n",
       "      <td>248.478168</td>\n",
       "      <td>1.031324e-19</td>\n",
       "    </tr>\n",
       "    <tr>\n",
       "      <th>C(species)</th>\n",
       "      <td>0.103602</td>\n",
       "      <td>1.0</td>\n",
       "      <td>8.057728</td>\n",
       "      <td>6.831378e-03</td>\n",
       "    </tr>\n",
       "    <tr>\n",
       "      <th>C(lightlevel)</th>\n",
       "      <td>0.884985</td>\n",
       "      <td>3.0</td>\n",
       "      <td>22.943445</td>\n",
       "      <td>4.286895e-09</td>\n",
       "    </tr>\n",
       "    <tr>\n",
       "      <th>C(culture)</th>\n",
       "      <td>0.018802</td>\n",
       "      <td>1.0</td>\n",
       "      <td>1.462346</td>\n",
       "      <td>2.330151e-01</td>\n",
       "    </tr>\n",
       "    <tr>\n",
       "      <th>C(species):C(lightlevel)</th>\n",
       "      <td>0.222896</td>\n",
       "      <td>3.0</td>\n",
       "      <td>5.778629</td>\n",
       "      <td>2.018751e-03</td>\n",
       "    </tr>\n",
       "    <tr>\n",
       "      <th>C(species):C(culture)</th>\n",
       "      <td>0.054002</td>\n",
       "      <td>1.0</td>\n",
       "      <td>4.200052</td>\n",
       "      <td>4.641352e-02</td>\n",
       "    </tr>\n",
       "    <tr>\n",
       "      <th>C(culture):C(lightlevel)</th>\n",
       "      <td>0.056931</td>\n",
       "      <td>3.0</td>\n",
       "      <td>1.475957</td>\n",
       "      <td>2.396550e-01</td>\n",
       "    </tr>\n",
       "    <tr>\n",
       "      <th>Residual</th>\n",
       "      <td>0.565729</td>\n",
       "      <td>44.0</td>\n",
       "      <td>NaN</td>\n",
       "      <td>NaN</td>\n",
       "    </tr>\n",
       "  </tbody>\n",
       "</table>\n",
       "</div>"
      ],
      "text/plain": [
       "                            sum_sq    df           F        PR(>F)\n",
       "Intercept                 3.194803   1.0  248.478168  1.031324e-19\n",
       "C(species)                0.103602   1.0    8.057728  6.831378e-03\n",
       "C(lightlevel)             0.884985   3.0   22.943445  4.286895e-09\n",
       "C(culture)                0.018802   1.0    1.462346  2.330151e-01\n",
       "C(species):C(lightlevel)  0.222896   3.0    5.778629  2.018751e-03\n",
       "C(species):C(culture)     0.054002   1.0    4.200052  4.641352e-02\n",
       "C(culture):C(lightlevel)  0.056931   3.0    1.475957  2.396550e-01\n",
       "Residual                  0.565729  44.0         NaN           NaN"
      ]
     },
     "execution_count": 64,
     "metadata": {},
     "output_type": "execute_result"
    }
   ],
   "source": [
    "#run ANOVA\n",
    "sporoperfem = ES_good['SporophytesperFemale']\n",
    "species = ES_good['Species']\n",
    "lightlevel = ES_good['Light_Level']\n",
    "culture = ES_good['Culture_Type']\n",
    "\n",
    "\n",
    "model = ols('sporoperfem ~ C(species) + C(lightlevel) + C(culture)+ C(species):C(lightlevel)+ C(species):C(culture)+C(culture):C(lightlevel)', data=ES_good).fit()\n",
    "anova_table = sm.stats.anova_lm(model, typ=3)\n",
    "anova_table"
   ]
  },
  {
   "cell_type": "code",
   "execution_count": 65,
   "id": "71bab96f-ced5-4279-9d3f-b342f7c9f38e",
   "metadata": {},
   "outputs": [
    {
     "name": "stdout",
     "output_type": "stream",
     "text": [
      "   group1     group2      Diff     Lower     Upper    q-value  p-value\n",
      "0     Low     Medium  0.226250  0.095145  0.357355   6.516659    0.001\n",
      "1     Low       High  0.461875  0.330770  0.592980  13.303346    0.001\n",
      "2     Low  Very High  0.473750  0.342645  0.604855  13.645380    0.001\n",
      "3  Medium       High  0.235625  0.128578  0.342672   8.311959    0.001\n",
      "4  Medium  Very High  0.247500  0.140453  0.354547   8.730864    0.001\n",
      "5    High  Very High  0.011875 -0.095172  0.118922   0.418905    0.900   group1   group2      Diff     Lower    Upper   q-value   p-value\n",
      "0  Macro  Egregia  0.065714  0.004639  0.12679  3.066626  0.035574\n"
     ]
    },
    {
     "name": "stderr",
     "output_type": "stream",
     "text": [
      "/Users/jayceelanza/opt/miniconda3/lib/python3.8/site-packages/bioinfokit/analys.py:402: FutureWarning: Dropping of nuisance columns in DataFrame reductions (with 'numeric_only=None') is deprecated; in a future version this will raise TypeError.  Select only valid columns before calling the reduction.\n",
      "  mult_group[ele] = df[df[xfac_var] == ele].mean().loc[res_var]\n",
      "/Users/jayceelanza/opt/miniconda3/lib/python3.8/site-packages/statsmodels/base/model.py:1871: ValueWarning: covariance of constraints does not have full rank. The number of constraints is 3, but rank is 2\n",
      "  warnings.warn('covariance of constraints does not have full '\n",
      "/Users/jayceelanza/opt/miniconda3/lib/python3.8/site-packages/statsmodels/base/model.py:1871: ValueWarning: covariance of constraints does not have full rank. The number of constraints is 3, but rank is 2\n",
      "  warnings.warn('covariance of constraints does not have full '\n",
      "/Users/jayceelanza/opt/miniconda3/lib/python3.8/site-packages/bioinfokit/analys.py:402: FutureWarning: Dropping of nuisance columns in DataFrame reductions (with 'numeric_only=None') is deprecated; in a future version this will raise TypeError.  Select only valid columns before calling the reduction.\n",
      "  mult_group[ele] = df[df[xfac_var] == ele].mean().loc[res_var]\n",
      "/Users/jayceelanza/opt/miniconda3/lib/python3.8/site-packages/statsmodels/base/model.py:1871: ValueWarning: covariance of constraints does not have full rank. The number of constraints is 3, but rank is 2\n",
      "  warnings.warn('covariance of constraints does not have full '\n",
      "/Users/jayceelanza/opt/miniconda3/lib/python3.8/site-packages/statsmodels/base/model.py:1871: ValueWarning: covariance of constraints does not have full rank. The number of constraints is 3, but rank is 2\n",
      "  warnings.warn('covariance of constraints does not have full '\n"
     ]
    }
   ],
   "source": [
    "#run post hoc tukey tests on significant results\n",
    "\n",
    "res.tukey_hsd(df=ES_good, res_var= 'SporophytesperFemale', xfac_var='Light_Level', anova_model='SporophytesperFemale ~ C(Species) + C(Light_Level) + C(Culture_Type)+ C(Species):C(Light_Level)+ C(Species):C(Culture_Type)+C(Culture_Type):C(Light_Level)')\n",
    "LL= res.tukey_summary\n",
    "\n",
    "\n",
    "res = stat()\n",
    "res.tukey_hsd(df=ES_good, res_var= 'SporophytesperFemale', xfac_var='Species', anova_model='SporophytesperFemale ~ C(Species) + C(Light_Level) + C(Culture_Type)+ C(Species):C(Light_Level)+ C(Species):C(Culture_Type)+C(Culture_Type):C(Light_Level)')\n",
    "SP= res.tukey_summary\n",
    "\n",
    "print(LL, SP)"
   ]
  },
  {
   "cell_type": "code",
   "execution_count": 66,
   "id": "519306e7-d9d9-4b81-b666-943afab94356",
   "metadata": {},
   "outputs": [
    {
     "name": "stderr",
     "output_type": "stream",
     "text": [
      "/Users/jayceelanza/opt/miniconda3/lib/python3.8/site-packages/bioinfokit/analys.py:368: FutureWarning: Dropping of nuisance columns in DataFrame reductions (with 'numeric_only=None') is deprecated; in a future version this will raise TypeError.  Select only valid columns before calling the reduction.\n",
      "  mult_group[(ele1, ele2)] = df[(df[xfac_var[0]] == ele1) &\n",
      "/Users/jayceelanza/opt/miniconda3/lib/python3.8/site-packages/statsmodels/base/model.py:1871: ValueWarning: covariance of constraints does not have full rank. The number of constraints is 3, but rank is 2\n",
      "  warnings.warn('covariance of constraints does not have full '\n",
      "/Users/jayceelanza/opt/miniconda3/lib/python3.8/site-packages/statsmodels/base/model.py:1871: ValueWarning: covariance of constraints does not have full rank. The number of constraints is 3, but rank is 2\n",
      "  warnings.warn('covariance of constraints does not have full '\n"
     ]
    },
    {
     "data": {
      "text/html": [
       "<div>\n",
       "<style scoped>\n",
       "    .dataframe tbody tr th:only-of-type {\n",
       "        vertical-align: middle;\n",
       "    }\n",
       "\n",
       "    .dataframe tbody tr th {\n",
       "        vertical-align: top;\n",
       "    }\n",
       "\n",
       "    .dataframe thead th {\n",
       "        text-align: right;\n",
       "    }\n",
       "</style>\n",
       "<table border=\"1\" class=\"dataframe\">\n",
       "  <thead>\n",
       "    <tr style=\"text-align: right;\">\n",
       "      <th></th>\n",
       "      <th>group1</th>\n",
       "      <th>group2</th>\n",
       "      <th>Diff</th>\n",
       "      <th>Lower</th>\n",
       "      <th>Upper</th>\n",
       "      <th>q-value</th>\n",
       "      <th>p-value</th>\n",
       "    </tr>\n",
       "  </thead>\n",
       "  <tbody>\n",
       "    <tr>\n",
       "      <th>0</th>\n",
       "      <td>(Macro, Mono)</td>\n",
       "      <td>(Macro, Poly)</td>\n",
       "      <td>0.10125</td>\n",
       "      <td>-0.014374</td>\n",
       "      <td>0.216874</td>\n",
       "      <td>3.306768</td>\n",
       "      <td>0.104916</td>\n",
       "    </tr>\n",
       "    <tr>\n",
       "      <th>1</th>\n",
       "      <td>(Macro, Mono)</td>\n",
       "      <td>(Egregia, Mono)</td>\n",
       "      <td>0.01750</td>\n",
       "      <td>-0.089547</td>\n",
       "      <td>0.124547</td>\n",
       "      <td>0.617334</td>\n",
       "      <td>0.900000</td>\n",
       "    </tr>\n",
       "    <tr>\n",
       "      <th>2</th>\n",
       "      <td>(Macro, Mono)</td>\n",
       "      <td>(Egregia, Poly)</td>\n",
       "      <td>0.02875</td>\n",
       "      <td>-0.086874</td>\n",
       "      <td>0.144374</td>\n",
       "      <td>0.938959</td>\n",
       "      <td>0.900000</td>\n",
       "    </tr>\n",
       "    <tr>\n",
       "      <th>3</th>\n",
       "      <td>(Macro, Poly)</td>\n",
       "      <td>(Egregia, Mono)</td>\n",
       "      <td>0.11875</td>\n",
       "      <td>0.003126</td>\n",
       "      <td>0.234374</td>\n",
       "      <td>3.878308</td>\n",
       "      <td>0.042133</td>\n",
       "    </tr>\n",
       "    <tr>\n",
       "      <th>4</th>\n",
       "      <td>(Macro, Poly)</td>\n",
       "      <td>(Egregia, Poly)</td>\n",
       "      <td>0.13000</td>\n",
       "      <td>0.006393</td>\n",
       "      <td>0.253607</td>\n",
       "      <td>3.971513</td>\n",
       "      <td>0.035910</td>\n",
       "    </tr>\n",
       "    <tr>\n",
       "      <th>5</th>\n",
       "      <td>(Egregia, Mono)</td>\n",
       "      <td>(Egregia, Poly)</td>\n",
       "      <td>0.01125</td>\n",
       "      <td>-0.104374</td>\n",
       "      <td>0.126874</td>\n",
       "      <td>0.367419</td>\n",
       "      <td>0.900000</td>\n",
       "    </tr>\n",
       "  </tbody>\n",
       "</table>\n",
       "</div>"
      ],
      "text/plain": [
       "            group1           group2     Diff     Lower     Upper   q-value  \\\n",
       "0    (Macro, Mono)    (Macro, Poly)  0.10125 -0.014374  0.216874  3.306768   \n",
       "1    (Macro, Mono)  (Egregia, Mono)  0.01750 -0.089547  0.124547  0.617334   \n",
       "2    (Macro, Mono)  (Egregia, Poly)  0.02875 -0.086874  0.144374  0.938959   \n",
       "3    (Macro, Poly)  (Egregia, Mono)  0.11875  0.003126  0.234374  3.878308   \n",
       "4    (Macro, Poly)  (Egregia, Poly)  0.13000  0.006393  0.253607  3.971513   \n",
       "5  (Egregia, Mono)  (Egregia, Poly)  0.01125 -0.104374  0.126874  0.367419   \n",
       "\n",
       "    p-value  \n",
       "0  0.104916  \n",
       "1  0.900000  \n",
       "2  0.900000  \n",
       "3  0.042133  \n",
       "4  0.035910  \n",
       "5  0.900000  "
      ]
     },
     "execution_count": 66,
     "metadata": {},
     "output_type": "execute_result"
    }
   ],
   "source": [
    "res = stat()\n",
    "res.tukey_hsd(df=ES_good, res_var= 'SporophytesperFemale', xfac_var=['Species','Culture_Type'], anova_model='SporophytesperFemale ~ C(Species) + C(Light_Level) + C(Culture_Type)+ C(Species):C(Light_Level)+ C(Species):C(Culture_Type)+C(Culture_Type):C(Light_Level)')\n",
    "res.tukey_summary"
   ]
  },
  {
   "cell_type": "code",
   "execution_count": 67,
   "id": "d915f783-ebbc-4e95-962c-bbbb99f656f2",
   "metadata": {},
   "outputs": [
    {
     "name": "stderr",
     "output_type": "stream",
     "text": [
      "/Users/jayceelanza/opt/miniconda3/lib/python3.8/site-packages/bioinfokit/analys.py:368: FutureWarning: Dropping of nuisance columns in DataFrame reductions (with 'numeric_only=None') is deprecated; in a future version this will raise TypeError.  Select only valid columns before calling the reduction.\n",
      "  mult_group[(ele1, ele2)] = df[(df[xfac_var[0]] == ele1) &\n",
      "/Users/jayceelanza/opt/miniconda3/lib/python3.8/site-packages/statsmodels/base/model.py:1871: ValueWarning: covariance of constraints does not have full rank. The number of constraints is 3, but rank is 2\n",
      "  warnings.warn('covariance of constraints does not have full '\n",
      "/Users/jayceelanza/opt/miniconda3/lib/python3.8/site-packages/statsmodels/base/model.py:1871: ValueWarning: covariance of constraints does not have full rank. The number of constraints is 3, but rank is 2\n",
      "  warnings.warn('covariance of constraints does not have full '\n"
     ]
    },
    {
     "data": {
      "text/html": [
       "<div>\n",
       "<style scoped>\n",
       "    .dataframe tbody tr th:only-of-type {\n",
       "        vertical-align: middle;\n",
       "    }\n",
       "\n",
       "    .dataframe tbody tr th {\n",
       "        vertical-align: top;\n",
       "    }\n",
       "\n",
       "    .dataframe thead th {\n",
       "        text-align: right;\n",
       "    }\n",
       "</style>\n",
       "<table border=\"1\" class=\"dataframe\">\n",
       "  <thead>\n",
       "    <tr style=\"text-align: right;\">\n",
       "      <th></th>\n",
       "      <th>group1</th>\n",
       "      <th>group2</th>\n",
       "      <th>Diff</th>\n",
       "      <th>Lower</th>\n",
       "      <th>Upper</th>\n",
       "      <th>q-value</th>\n",
       "      <th>p-value</th>\n",
       "    </tr>\n",
       "  </thead>\n",
       "  <tbody>\n",
       "    <tr>\n",
       "      <th>0</th>\n",
       "      <td>(Low, Macro)</td>\n",
       "      <td>(Low, Egregia)</td>\n",
       "      <td>0.08250</td>\n",
       "      <td>-0.172557</td>\n",
       "      <td>0.337557</td>\n",
       "      <td>1.455144</td>\n",
       "      <td>0.900000</td>\n",
       "    </tr>\n",
       "    <tr>\n",
       "      <th>1</th>\n",
       "      <td>(Low, Macro)</td>\n",
       "      <td>(Medium, Macro)</td>\n",
       "      <td>0.21125</td>\n",
       "      <td>-0.009636</td>\n",
       "      <td>0.432136</td>\n",
       "      <td>4.302473</td>\n",
       "      <td>0.070153</td>\n",
       "    </tr>\n",
       "    <tr>\n",
       "      <th>2</th>\n",
       "      <td>(Low, Macro)</td>\n",
       "      <td>(Medium, Egregia)</td>\n",
       "      <td>0.32375</td>\n",
       "      <td>0.102864</td>\n",
       "      <td>0.544636</td>\n",
       "      <td>6.593731</td>\n",
       "      <td>0.001000</td>\n",
       "    </tr>\n",
       "    <tr>\n",
       "      <th>3</th>\n",
       "      <td>(Low, Macro)</td>\n",
       "      <td>(High, Macro)</td>\n",
       "      <td>0.56250</td>\n",
       "      <td>0.341614</td>\n",
       "      <td>0.783386</td>\n",
       "      <td>11.456289</td>\n",
       "      <td>0.001000</td>\n",
       "    </tr>\n",
       "    <tr>\n",
       "      <th>4</th>\n",
       "      <td>(Low, Macro)</td>\n",
       "      <td>(High, Egregia)</td>\n",
       "      <td>0.44375</td>\n",
       "      <td>0.222864</td>\n",
       "      <td>0.664636</td>\n",
       "      <td>9.037739</td>\n",
       "      <td>0.001000</td>\n",
       "    </tr>\n",
       "    <tr>\n",
       "      <th>5</th>\n",
       "      <td>(Low, Macro)</td>\n",
       "      <td>(Very High, Macro)</td>\n",
       "      <td>0.41750</td>\n",
       "      <td>0.196614</td>\n",
       "      <td>0.638386</td>\n",
       "      <td>8.503112</td>\n",
       "      <td>0.001000</td>\n",
       "    </tr>\n",
       "    <tr>\n",
       "      <th>6</th>\n",
       "      <td>(Low, Macro)</td>\n",
       "      <td>(Very High, Egregia)</td>\n",
       "      <td>0.61250</td>\n",
       "      <td>0.391614</td>\n",
       "      <td>0.833386</td>\n",
       "      <td>12.474625</td>\n",
       "      <td>0.001000</td>\n",
       "    </tr>\n",
       "    <tr>\n",
       "      <th>7</th>\n",
       "      <td>(Low, Egregia)</td>\n",
       "      <td>(Medium, Macro)</td>\n",
       "      <td>0.12875</td>\n",
       "      <td>-0.092136</td>\n",
       "      <td>0.349636</td>\n",
       "      <td>2.622217</td>\n",
       "      <td>0.576958</td>\n",
       "    </tr>\n",
       "    <tr>\n",
       "      <th>8</th>\n",
       "      <td>(Low, Egregia)</td>\n",
       "      <td>(Medium, Egregia)</td>\n",
       "      <td>0.24125</td>\n",
       "      <td>0.020364</td>\n",
       "      <td>0.462136</td>\n",
       "      <td>4.913475</td>\n",
       "      <td>0.023532</td>\n",
       "    </tr>\n",
       "    <tr>\n",
       "      <th>9</th>\n",
       "      <td>(Low, Egregia)</td>\n",
       "      <td>(High, Macro)</td>\n",
       "      <td>0.48000</td>\n",
       "      <td>0.259114</td>\n",
       "      <td>0.700886</td>\n",
       "      <td>9.776033</td>\n",
       "      <td>0.001000</td>\n",
       "    </tr>\n",
       "    <tr>\n",
       "      <th>10</th>\n",
       "      <td>(Low, Egregia)</td>\n",
       "      <td>(High, Egregia)</td>\n",
       "      <td>0.36125</td>\n",
       "      <td>0.140364</td>\n",
       "      <td>0.582136</td>\n",
       "      <td>7.357483</td>\n",
       "      <td>0.001000</td>\n",
       "    </tr>\n",
       "    <tr>\n",
       "      <th>11</th>\n",
       "      <td>(Low, Egregia)</td>\n",
       "      <td>(Very High, Macro)</td>\n",
       "      <td>0.33500</td>\n",
       "      <td>0.114114</td>\n",
       "      <td>0.555886</td>\n",
       "      <td>6.822856</td>\n",
       "      <td>0.001000</td>\n",
       "    </tr>\n",
       "    <tr>\n",
       "      <th>12</th>\n",
       "      <td>(Low, Egregia)</td>\n",
       "      <td>(Very High, Egregia)</td>\n",
       "      <td>0.53000</td>\n",
       "      <td>0.309114</td>\n",
       "      <td>0.750886</td>\n",
       "      <td>10.794370</td>\n",
       "      <td>0.001000</td>\n",
       "    </tr>\n",
       "    <tr>\n",
       "      <th>13</th>\n",
       "      <td>(Medium, Macro)</td>\n",
       "      <td>(Medium, Egregia)</td>\n",
       "      <td>0.11250</td>\n",
       "      <td>-0.067853</td>\n",
       "      <td>0.292853</td>\n",
       "      <td>2.806206</td>\n",
       "      <td>0.502839</td>\n",
       "    </tr>\n",
       "    <tr>\n",
       "      <th>14</th>\n",
       "      <td>(Medium, Macro)</td>\n",
       "      <td>(High, Macro)</td>\n",
       "      <td>0.35125</td>\n",
       "      <td>0.170897</td>\n",
       "      <td>0.531603</td>\n",
       "      <td>8.761599</td>\n",
       "      <td>0.001000</td>\n",
       "    </tr>\n",
       "    <tr>\n",
       "      <th>15</th>\n",
       "      <td>(Medium, Macro)</td>\n",
       "      <td>(High, Egregia)</td>\n",
       "      <td>0.23250</td>\n",
       "      <td>0.052147</td>\n",
       "      <td>0.412853</td>\n",
       "      <td>5.799493</td>\n",
       "      <td>0.003998</td>\n",
       "    </tr>\n",
       "    <tr>\n",
       "      <th>16</th>\n",
       "      <td>(Medium, Macro)</td>\n",
       "      <td>(Very High, Macro)</td>\n",
       "      <td>0.20625</td>\n",
       "      <td>0.025897</td>\n",
       "      <td>0.386603</td>\n",
       "      <td>5.144711</td>\n",
       "      <td>0.015113</td>\n",
       "    </tr>\n",
       "    <tr>\n",
       "      <th>17</th>\n",
       "      <td>(Medium, Macro)</td>\n",
       "      <td>(Very High, Egregia)</td>\n",
       "      <td>0.40125</td>\n",
       "      <td>0.220897</td>\n",
       "      <td>0.581603</td>\n",
       "      <td>10.008802</td>\n",
       "      <td>0.001000</td>\n",
       "    </tr>\n",
       "    <tr>\n",
       "      <th>18</th>\n",
       "      <td>(Medium, Egregia)</td>\n",
       "      <td>(High, Macro)</td>\n",
       "      <td>0.23875</td>\n",
       "      <td>0.058397</td>\n",
       "      <td>0.419103</td>\n",
       "      <td>5.955393</td>\n",
       "      <td>0.002875</td>\n",
       "    </tr>\n",
       "    <tr>\n",
       "      <th>19</th>\n",
       "      <td>(Medium, Egregia)</td>\n",
       "      <td>(High, Egregia)</td>\n",
       "      <td>0.12000</td>\n",
       "      <td>-0.060353</td>\n",
       "      <td>0.300353</td>\n",
       "      <td>2.993287</td>\n",
       "      <td>0.423229</td>\n",
       "    </tr>\n",
       "    <tr>\n",
       "      <th>20</th>\n",
       "      <td>(Medium, Egregia)</td>\n",
       "      <td>(Very High, Macro)</td>\n",
       "      <td>0.09375</td>\n",
       "      <td>-0.086603</td>\n",
       "      <td>0.274103</td>\n",
       "      <td>2.338505</td>\n",
       "      <td>0.691249</td>\n",
       "    </tr>\n",
       "    <tr>\n",
       "      <th>21</th>\n",
       "      <td>(Medium, Egregia)</td>\n",
       "      <td>(Very High, Egregia)</td>\n",
       "      <td>0.28875</td>\n",
       "      <td>0.108397</td>\n",
       "      <td>0.469103</td>\n",
       "      <td>7.202596</td>\n",
       "      <td>0.001000</td>\n",
       "    </tr>\n",
       "    <tr>\n",
       "      <th>22</th>\n",
       "      <td>(High, Macro)</td>\n",
       "      <td>(High, Egregia)</td>\n",
       "      <td>0.11875</td>\n",
       "      <td>-0.061603</td>\n",
       "      <td>0.299103</td>\n",
       "      <td>2.962106</td>\n",
       "      <td>0.436710</td>\n",
       "    </tr>\n",
       "    <tr>\n",
       "      <th>23</th>\n",
       "      <td>(High, Macro)</td>\n",
       "      <td>(Very High, Macro)</td>\n",
       "      <td>0.14500</td>\n",
       "      <td>-0.035353</td>\n",
       "      <td>0.325353</td>\n",
       "      <td>3.616888</td>\n",
       "      <td>0.199192</td>\n",
       "    </tr>\n",
       "    <tr>\n",
       "      <th>24</th>\n",
       "      <td>(High, Macro)</td>\n",
       "      <td>(Very High, Egregia)</td>\n",
       "      <td>0.05000</td>\n",
       "      <td>-0.130353</td>\n",
       "      <td>0.230353</td>\n",
       "      <td>1.247203</td>\n",
       "      <td>0.900000</td>\n",
       "    </tr>\n",
       "    <tr>\n",
       "      <th>25</th>\n",
       "      <td>(High, Egregia)</td>\n",
       "      <td>(Very High, Macro)</td>\n",
       "      <td>0.02625</td>\n",
       "      <td>-0.154103</td>\n",
       "      <td>0.206603</td>\n",
       "      <td>0.654781</td>\n",
       "      <td>0.900000</td>\n",
       "    </tr>\n",
       "    <tr>\n",
       "      <th>26</th>\n",
       "      <td>(High, Egregia)</td>\n",
       "      <td>(Very High, Egregia)</td>\n",
       "      <td>0.16875</td>\n",
       "      <td>-0.011603</td>\n",
       "      <td>0.349103</td>\n",
       "      <td>4.209309</td>\n",
       "      <td>0.081873</td>\n",
       "    </tr>\n",
       "    <tr>\n",
       "      <th>27</th>\n",
       "      <td>(Very High, Macro)</td>\n",
       "      <td>(Very High, Egregia)</td>\n",
       "      <td>0.19500</td>\n",
       "      <td>0.014647</td>\n",
       "      <td>0.375353</td>\n",
       "      <td>4.864091</td>\n",
       "      <td>0.025815</td>\n",
       "    </tr>\n",
       "  </tbody>\n",
       "</table>\n",
       "</div>"
      ],
      "text/plain": [
       "                group1                group2     Diff     Lower     Upper  \\\n",
       "0         (Low, Macro)        (Low, Egregia)  0.08250 -0.172557  0.337557   \n",
       "1         (Low, Macro)       (Medium, Macro)  0.21125 -0.009636  0.432136   \n",
       "2         (Low, Macro)     (Medium, Egregia)  0.32375  0.102864  0.544636   \n",
       "3         (Low, Macro)         (High, Macro)  0.56250  0.341614  0.783386   \n",
       "4         (Low, Macro)       (High, Egregia)  0.44375  0.222864  0.664636   \n",
       "5         (Low, Macro)    (Very High, Macro)  0.41750  0.196614  0.638386   \n",
       "6         (Low, Macro)  (Very High, Egregia)  0.61250  0.391614  0.833386   \n",
       "7       (Low, Egregia)       (Medium, Macro)  0.12875 -0.092136  0.349636   \n",
       "8       (Low, Egregia)     (Medium, Egregia)  0.24125  0.020364  0.462136   \n",
       "9       (Low, Egregia)         (High, Macro)  0.48000  0.259114  0.700886   \n",
       "10      (Low, Egregia)       (High, Egregia)  0.36125  0.140364  0.582136   \n",
       "11      (Low, Egregia)    (Very High, Macro)  0.33500  0.114114  0.555886   \n",
       "12      (Low, Egregia)  (Very High, Egregia)  0.53000  0.309114  0.750886   \n",
       "13     (Medium, Macro)     (Medium, Egregia)  0.11250 -0.067853  0.292853   \n",
       "14     (Medium, Macro)         (High, Macro)  0.35125  0.170897  0.531603   \n",
       "15     (Medium, Macro)       (High, Egregia)  0.23250  0.052147  0.412853   \n",
       "16     (Medium, Macro)    (Very High, Macro)  0.20625  0.025897  0.386603   \n",
       "17     (Medium, Macro)  (Very High, Egregia)  0.40125  0.220897  0.581603   \n",
       "18   (Medium, Egregia)         (High, Macro)  0.23875  0.058397  0.419103   \n",
       "19   (Medium, Egregia)       (High, Egregia)  0.12000 -0.060353  0.300353   \n",
       "20   (Medium, Egregia)    (Very High, Macro)  0.09375 -0.086603  0.274103   \n",
       "21   (Medium, Egregia)  (Very High, Egregia)  0.28875  0.108397  0.469103   \n",
       "22       (High, Macro)       (High, Egregia)  0.11875 -0.061603  0.299103   \n",
       "23       (High, Macro)    (Very High, Macro)  0.14500 -0.035353  0.325353   \n",
       "24       (High, Macro)  (Very High, Egregia)  0.05000 -0.130353  0.230353   \n",
       "25     (High, Egregia)    (Very High, Macro)  0.02625 -0.154103  0.206603   \n",
       "26     (High, Egregia)  (Very High, Egregia)  0.16875 -0.011603  0.349103   \n",
       "27  (Very High, Macro)  (Very High, Egregia)  0.19500  0.014647  0.375353   \n",
       "\n",
       "      q-value   p-value  \n",
       "0    1.455144  0.900000  \n",
       "1    4.302473  0.070153  \n",
       "2    6.593731  0.001000  \n",
       "3   11.456289  0.001000  \n",
       "4    9.037739  0.001000  \n",
       "5    8.503112  0.001000  \n",
       "6   12.474625  0.001000  \n",
       "7    2.622217  0.576958  \n",
       "8    4.913475  0.023532  \n",
       "9    9.776033  0.001000  \n",
       "10   7.357483  0.001000  \n",
       "11   6.822856  0.001000  \n",
       "12  10.794370  0.001000  \n",
       "13   2.806206  0.502839  \n",
       "14   8.761599  0.001000  \n",
       "15   5.799493  0.003998  \n",
       "16   5.144711  0.015113  \n",
       "17  10.008802  0.001000  \n",
       "18   5.955393  0.002875  \n",
       "19   2.993287  0.423229  \n",
       "20   2.338505  0.691249  \n",
       "21   7.202596  0.001000  \n",
       "22   2.962106  0.436710  \n",
       "23   3.616888  0.199192  \n",
       "24   1.247203  0.900000  \n",
       "25   0.654781  0.900000  \n",
       "26   4.209309  0.081873  \n",
       "27   4.864091  0.025815  "
      ]
     },
     "execution_count": 67,
     "metadata": {},
     "output_type": "execute_result"
    }
   ],
   "source": [
    "res = stat()\n",
    "res.tukey_hsd(df=ES_good, res_var= 'SporophytesperFemale', xfac_var=['Light_Level','Species'], anova_model='SporophytesperFemale ~ C(Species) + C(Light_Level) + C(Culture_Type)+ C(Species):C(Light_Level)+ C(Species):C(Culture_Type)+C(Culture_Type):C(Light_Level)')\n",
    "res.tukey_summary"
   ]
  },
  {
   "cell_type": "code",
   "execution_count": 68,
   "id": "a27319a1-0dca-4c6d-a7b3-40a5956d0edf",
   "metadata": {},
   "outputs": [
    {
     "data": {
      "image/png": "[encoded data removed]",
      "text/plain": [
       "<Figure size 432x288 with 1 Axes>"
      ]
     },
     "metadata": {
      "needs_background": "light"
     },
     "output_type": "display_data"
    },
    {
     "data": {
      "image/png": "[encoded data removed]",
      "text/plain": [
       "<Figure size 432x288 with 1 Axes>"
      ]
     },
     "metadata": {
      "needs_background": "light"
     },
     "output_type": "display_data"
    },
    {
     "name": "stdout",
     "output_type": "stream",
     "text": [
      "0.9627022743225098 0.08090098202228546\n"
     ]
    }
   ],
   "source": [
    "# test residuals\n",
    "# QQ-plot\n",
    "import statsmodels.api as sm\n",
    "import matplotlib.pyplot as plt\n",
    "# res.anova_std_residuals are standardized residuals obtained from two-way ANOVA\n",
    "sm.qqplot(res.anova_std_residuals, line='45')\n",
    "plt.xlabel(\"Theoretical Quantiles\")\n",
    "plt.ylabel(\"Standardized Residuals\")\n",
    "plt.show()\n",
    "\n",
    "# histogram\n",
    "plt.hist(res.anova_model_out.resid, bins='auto', histtype='bar', ec='k') \n",
    "plt.xlabel(\"Residuals\")\n",
    "plt.ylabel('Frequency')\n",
    "plt.show()\n",
    "\n",
    "# Shapiro-Wilk test\n",
    "import scipy.stats as stats\n",
    "w, pvalue = stats.shapiro(res.anova_model_out.resid)\n",
    "print(w, pvalue)\n",
    "\n",
    "\n",
    "\n",
    "#residuals are normal"
   ]
  },
  {
   "cell_type": "markdown",
   "id": "50489c9d-2b2f-4ba3-859f-5a0b9b6c442f",
   "metadata": {},
   "source": [
    "#### Summary"
   ]
  },
  {
   "cell_type": "markdown",
   "id": "5a7ea147-2350-4710-b78a-d08be8a28652",
   "metadata": {},
   "source": [
    "##### There was a significant interaciton between light level and the number of sporophytes produced per female. The number of sporophytes produced was different between all light treatments except between high and very high. There was also a significant differences in the number of sporophytes produced per female between species. The interaction between species and culture type was significant between Macrocystis polyculture and Egregia monoculture, and between Macrocystis polyculture and Egregia polyculture. The interaction between species and light level was significant between many treatments.\n",
    "\n",
    "##### There was no difference in the number of sporophytes produced per female between monocultures and polycultures. The interaction between culture type and light level was not significant"
   ]
  },
  {
   "cell_type": "markdown",
   "id": "b59e6053-d6a2-4efa-876d-823dc712d6f4",
   "metadata": {},
   "source": [
    "## Conclusions\n",
    " "
   ]
  },
  {
   "cell_type": "markdown",
   "id": "0bc4dd55-359b-4cc9-8299-224efb4fe564",
   "metadata": {},
   "source": [
    "#### Settlement Density"
   ]
  },
  {
   "cell_type": "markdown",
   "id": "f6f66f81-5528-4984-a92c-81ebb8e3bb55",
   "metadata": {},
   "source": [
    "The settlement density in these experiments varied by both species and culture type. This is not ideal for this experiment as varying settlemnt density could potentially affect the later portions of this experiemnt, such as the timing of egg production and overall fertilization success. "
   ]
  },
  {
   "cell_type": "markdown",
   "id": "e94d8419-6925-4664-9831-0b3649e20f0e",
   "metadata": {},
   "source": [
    "#### Timing of Egg Production"
   ]
  },
  {
   "cell_type": "markdown",
   "id": "c5766971-7c34-4050-8680-2305398e666e",
   "metadata": {},
   "source": [
    "There was no significance in the timing of egg production between species, indicating that at ambient conditions, these species would produce their eggs at the same time. This indicates that they would likely compete with eachother. \n",
    "\n",
    "There was a significant difference in the number of days until 50% of females produced eggs between monocultures and polycultures. This is an indication that some sort of competition is occuring, causing one or both species in the polyculture to delay their egg production. \n",
    "\n",
    "Light level had a strong effect on the timing of egg production. The number of days until 50% of female gametophytes produced eggs varied between all light levels except for low and medium. This may be because the low and medium light treatments are too close together to elicit a significant difference. The outcome of sexual competition is dependent on which species produced their egg first, and this analysis shows that the timing of egg production is dependent on light level. This means that sexual competition in kelps could be impacted by changing the amount of light. \n",
    "\n",
    "There was no significant interaction between culture type and light level. This indicates that monocultures and polycultures were impacted in the same way by changing light levels. Additionally, the interactions between species and light level were not significant. As light level alone was significant, this indicates that both species were impacted by light in a similar way. \n",
    "\n",
    "The significant interaction between species and culture type between Egregia monocultures and Egregia polycultures may have been due to an error in data collection, or just not having enough data. \n",
    "\n"
   ]
  },
  {
   "cell_type": "markdown",
   "id": "fd2eb78a-f671-4d9a-8ac2-75572c822491",
   "metadata": {},
   "source": [
    "#### Number of Sporophytes Produced per Female"
   ]
  },
  {
   "cell_type": "markdown",
   "id": "3aad451c-2a58-4d8a-8d38-6df16dc9e35e",
   "metadata": {},
   "source": [
    "There was no significant difference in the number of sporophytes produced in monocultures and polycultures. This suggests a competitive interaction as the number of spores settled did vary between monoculture and polyculture.\n",
    "\n",
    "There was a significant difference in the number of sporophytes produced per female between species. This means that one species had more successful fertilization than the other. This may be due to competitive interaction. \n",
    "\n",
    "Light level significantly impacted the number of sporophytes produced per female. The number of sporophytes produced was different between all light treatments except between high and very high. At both high and very high light levels, the maximum number of sporophytes produced per female (1) was reached, therefore they were not different. At lower light levels, lower levels of fertilization success were acheived, which verifies results of previous studies.\n",
    "\n",
    "The interaction between species and light level was significant between many treatments. This indicates that the fertilization success of each species was different between light levels. \n",
    "\n",
    "The interaction between culture type and light level was not significant, indicating that both polycultures and monocultures were impacted similarly by light levels. \n",
    "\n",
    "The interaction between species and culture type was significant between Macrocystis polyculture and Egregia monoculture, and between Macrocystis polyculture and Egregia polyculture. This is likely due to a small data set. "
   ]
  },
  {
   "cell_type": "markdown",
   "id": "4836840f-e52b-47dd-af3d-9554c45e598b",
   "metadata": {
    "tags": []
   },
   "source": [
    "  "
   ]
  },
  {
   "cell_type": "markdown",
   "id": "e5a5fb6b-4e7f-472c-b406-ef4625ad4630",
   "metadata": {},
   "source": [
    "# Future Work"
   ]
  },
  {
   "cell_type": "markdown",
   "id": "c14c5011-5f0b-4dd1-9757-724975413d62",
   "metadata": {},
   "source": [
    "Firstly, I hope to solve the settlement density issue. To do this I intend to modify the solution of spores that are added to the petri dish so that settlement density does not vary by species or culture type. I also need to add more data to each dataset, which will happen as the project progresses. I think that it would be interesting to look add more species to the project. In terms of analysis, I think that running an ANOVA that does not look at species as a variable may be helpful in determining how individual species were affected by culture type and light level. "
   ]
  },
  {
   "cell_type": "markdown",
   "id": "fde4c432-fd60-4ebd-a809-89d62e3e510f",
   "metadata": {},
   "source": [
    "# References"
   ]
  },
  {
   "cell_type": "markdown",
   "id": "1be9daf8-1be3-4c82-af93-5c9f9468be39",
   "metadata": {},
   "source": [
    "Abbot, I. A., & Hollenberg, G. J., (1982)Marine Algae of California. Stanford University Press\n",
    "\n",
    "Dayton, P.K. (1985) Ecology of kelp communities. Annual Review of Ecolology and Systematics, 16 215–45 \n",
    "\n",
    "Christiansen, M. S. (2018). \"Chemical Competition between Microscopic Stages of Macrocystis pyrifera and Five Native\n",
    "Kelp Species: Does Giant Kelp Always Lose?\" San Jose State University:Master's Theses. 4896. \n",
    "\n",
    "Dayton, P.K., Tegner, M.J., Edwards, P.B. & Riser, K.L. (1999). Temporal and spatial scales of kelp demography: The\n",
    "    role of oceanographic climate. Ecological Monographs, 69(2), 219– 250.\n",
    "\n",
    "Foster, M. S. & Schiel, D. R. (1985). The ecology of giant kelp forest in California: A community profile. U.S. Fish\n",
    "    and Wildlife Service. \n",
    "\n",
    "Gerard, V.A. (1984). The light environment in a giant kelp forest: influence of Macrocystis pyrifera on spatial and\n",
    "    temporal variability. Marine Biology, 84, 189–195. \n",
    "\n",
    "Graham, M. (2004). Effects of Local Deforestation on the Diversity and Structure of Southern California Giant Kelp\n",
    "    Forest Food Webs. Ecosystems 7, 341–357. \n",
    "\n",
    "Graham, M.H. (1996). Effect of high irradiance on recruitment of the giant kelp Macrocystis (Phaeophyta) in shallow\n",
    "    water. Journal of Phycology, 32: 903-906. \n",
    "\n",
    "Graham, M. H., Vásquez, J. a., & Buschmann, A. H. (2007). Global ecology of the giant kelp. Oceanography and Marine\n",
    "    Biology, 45, 39–88.\n",
    "\n",
    "Hamilton, J. &  Konar, B. (2007). Implications of substrate complexity and kelp variability for south-central\n",
    "    Alaskan nearshore fish communities. Fisheries Bulletin, 105:189-196.\n",
    "\n",
    "Howard, A. C. (2014).  \"Effects of Temperature on Sexual Competition in Kelps: Implications for Range Shifts in\n",
    "    Foundation Species\". San Jose State University: Master's Theses, 4419. \n",
    "\n",
    "Lind, A. C., & Konar, B. (2017). Effects of abiotic stressors on kelp early life-history stages. ALGAE, 32(3), 223\n",
    "    233.\n",
    "\n",
    "Mann, K. H., (1973) Seaweeds: their productivity and strategy for growth. Science, 182 975–81 \n",
    "\n",
    "Reed D. C. & Foster M. S (1984). The effects of canopy shading on algal recruitment and growth in a giant kelp\n",
    "    forest. Ecology 65: 937-948\n",
    "\n",
    "Reed, D. C. (1990). The Effects of Variable Settlement and Early Competition onPatterns of Kelp Recruitment.\n",
    "    Ecology, 71(2), 776–787.\n",
    "\n",
    "Reed, D.C., Neushul, M. & Ebeling, A.W. (1991). Role of settlement density on gametophyte growth and reproduction in\n",
    "    the kelps Pterygophora californica and Macrocystis pyrifera (Phaeophyceae). Journal of Phycology, 27: 361-366.\n",
    "\n",
    "Smale, D. A., Burrows, M. T, Moore, P., O'Connor, N. & Hawkins, S. J. (2013). Threats and knowledge gaps for\n",
    "    ecosystem services provided by kelp forests: a northeast Atlantic perspective. Ecology and Evolution, 3 (11),\n",
    "    pp. 4016-4038\n",
    "\n",
    "Torres-Moye, G. (2013). Benthic community structure in kelp forests from the SouthernCalifornia Bight. Ciencias \n",
    "    Marinas, 39, 239–252. \n",
    "\n",
    "Traiger, S. & Konar, B. (2017). Supply and survival: Glacial melt imposes limitations at the kelp microscopic life\n",
    "    stage. Botanica Marina, 60. \n",
    "\n",
    "Veenhof, R. Champion, C., Wernberg, T. & Minne, A. Kelp gametophytes in changing oceans. Oceanography and Marine\n",
    "    Biology Annual Review, 60 (in press).\n",
    "\n",
    "West, J. A., & McBride, D. L. (1999). Long-term and diurnal carpospore discharge patterns in the Ceramiaceae \n",
    "    Rhodomelaceae and Delesseriaceae (Rhodophyta). Sixteenth International Seaweed Symposium, 101-113. \n",
    "\n",
    "Zacher, K., Bernard, M., Daniel Moreno, A., & Bartsch, I. (2019). Temperature mediates the outcome of species \n",
    "    interactions in early life-history stages of two sympatric kelp species. Marine Biology, 166(12), 161. \n",
    "\n"
   ]
  },
  {
   "cell_type": "code",
   "execution_count": null,
   "id": "96c30fe6-ae0b-4f3d-bf2a-cd32e2ba0ca9",
   "metadata": {},
   "outputs": [],
   "source": []
  }
 ],
 "metadata": {
  "kernelspec": {
   "display_name": "Python 3 (ipykernel)",
   "language": "python",
   "name": "python3"
  },
  "language_info": {
   "codemirror_mode": {
    "name": "ipython",
    "version": 3
   },
   "file_extension": ".py",
   "mimetype": "text/x-python",
   "name": "python",
   "nbconvert_exporter": "python",
   "pygments_lexer": "ipython3",
   "version": "3.8.12"
  }
 },
 "nbformat": 4,
 "nbformat_minor": 5
}
